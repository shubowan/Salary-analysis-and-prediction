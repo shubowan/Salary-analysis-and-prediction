{
  "nbformat": 4,
  "nbformat_minor": 5,
  "metadata": {
    "kernelspec": {
      "display_name": "Python 3",
      "language": "python",
      "name": "python3"
    },
    "language_info": {
      "codemirror_mode": {
        "name": "ipython",
        "version": 3
      },
      "file_extension": ".py",
      "mimetype": "text/x-python",
      "name": "python",
      "nbconvert_exporter": "python",
      "pygments_lexer": "ipython3",
      "version": "3.8.8"
    },
    "colab": {
      "name": "1624 2.ipynb",
      "provenance": [],
      "collapsed_sections": []
    }
  },
  "cells": [
    {
      "cell_type": "code",
      "metadata": {
        "id": "ett96818fPQp"
      },
      "source": [
        "import pandas as pd\n",
        "from collections import Counter\n",
        "import numpy as np\n",
        "from sklearn.model_selection import train_test_split\n",
        "import matplotlib.pyplot as plt\n",
        "import scipy.stats as stats\n",
        "from sklearn.model_selection import cross_validate,GridSearchCV,KFold\n",
        "from sklearn.linear_model import LogisticRegression"
      ],
      "id": "ett96818fPQp",
      "execution_count": 1,
      "outputs": []
    },
    {
      "cell_type": "code",
      "metadata": {
        "ExecuteTime": {
          "end_time": "2021-10-24T17:31:55.638149Z",
          "start_time": "2021-10-24T17:31:55.280322Z"
        },
        "id": "eb97c335",
        "colab": {
          "resources": {
            "http://localhost:8080/nbextensions/google.colab/files.js": {
              "data": "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",
              "ok": true,
              "headers": [
                [
                  "content-type",
                  "application/javascript"
                ]
              ],
              "status": 200,
              "status_text": ""
            }
          },
          "base_uri": "https://localhost:8080/",
          "height": 72
        },
        "outputId": "a570f933-b4a9-4270-a387-bf0d08eac153"
      },
      "source": [
        "from google.colab import files\n",
        "uploaded = files.upload()"
      ],
      "id": "eb97c335",
      "execution_count": 2,
      "outputs": [
        {
          "output_type": "display_data",
          "data": {
            "text/html": [
              "\n",
              "     <input type=\"file\" id=\"files-cdecf2ed-2b01-421a-991d-969ff49cdc76\" name=\"files[]\" multiple disabled\n",
              "        style=\"border:none\" />\n",
              "     <output id=\"result-cdecf2ed-2b01-421a-991d-969ff49cdc76\">\n",
              "      Upload widget is only available when the cell has been executed in the\n",
              "      current browser session. Please rerun this cell to enable.\n",
              "      </output>\n",
              "      <script src=\"/nbextensions/google.colab/files.js\"></script> "
            ],
            "text/plain": [
              "<IPython.core.display.HTML object>"
            ]
          },
          "metadata": {}
        },
        {
          "output_type": "stream",
          "name": "stdout",
          "text": [
            "Saving clean_kaggle_data_2020.csv to clean_kaggle_data_2020.csv\n"
          ]
        }
      ]
    },
    {
      "cell_type": "code",
      "metadata": {
        "colab": {
          "base_uri": "https://localhost:8080/",
          "height": 666
        },
        "id": "ishX0ieGP3oG",
        "outputId": "b21f5d5a-be82-4501-edbc-6639c369f004"
      },
      "source": [
        "df=pd.read_csv(\"clean_kaggle_data_2020.csv\")\n",
        "df.head()"
      ],
      "id": "ishX0ieGP3oG",
      "execution_count": 3,
      "outputs": [
        {
          "output_type": "stream",
          "name": "stderr",
          "text": [
            "/usr/local/lib/python3.7/dist-packages/IPython/core/interactiveshell.py:2718: DtypeWarning: Columns (0,206) have mixed types.Specify dtype option on import or set low_memory=False.\n",
            "  interactivity=interactivity, compiler=compiler, result=result)\n"
          ]
        },
        {
          "output_type": "execute_result",
          "data": {
            "text/html": [
              "<div>\n",
              "<style scoped>\n",
              "    .dataframe tbody tr th:only-of-type {\n",
              "        vertical-align: middle;\n",
              "    }\n",
              "\n",
              "    .dataframe tbody tr th {\n",
              "        vertical-align: top;\n",
              "    }\n",
              "\n",
              "    .dataframe thead th {\n",
              "        text-align: right;\n",
              "    }\n",
              "</style>\n",
              "<table border=\"1\" class=\"dataframe\">\n",
              "  <thead>\n",
              "    <tr style=\"text-align: right;\">\n",
              "      <th></th>\n",
              "      <th>Time from Start to Finish (seconds)</th>\n",
              "      <th>Q1</th>\n",
              "      <th>Q2</th>\n",
              "      <th>Q3</th>\n",
              "      <th>Q4</th>\n",
              "      <th>Q5</th>\n",
              "      <th>Q6</th>\n",
              "      <th>Q7_Part_1</th>\n",
              "      <th>Q7_Part_2</th>\n",
              "      <th>Q7_Part_3</th>\n",
              "      <th>Q7_Part_4</th>\n",
              "      <th>Q7_Part_5</th>\n",
              "      <th>Q7_Part_6</th>\n",
              "      <th>Q7_Part_7</th>\n",
              "      <th>Q7_Part_8</th>\n",
              "      <th>Q7_Part_9</th>\n",
              "      <th>Q7_Part_10</th>\n",
              "      <th>Q7_Part_11</th>\n",
              "      <th>Q7_Part_12</th>\n",
              "      <th>Q7_OTHER</th>\n",
              "      <th>Q8</th>\n",
              "      <th>Q9_Part_1</th>\n",
              "      <th>Q9_Part_2</th>\n",
              "      <th>Q9_Part_3</th>\n",
              "      <th>Q9_Part_4</th>\n",
              "      <th>Q9_Part_5</th>\n",
              "      <th>Q9_Part_6</th>\n",
              "      <th>Q9_Part_7</th>\n",
              "      <th>Q9_Part_8</th>\n",
              "      <th>Q9_Part_9</th>\n",
              "      <th>Q9_Part_10</th>\n",
              "      <th>Q9_Part_11</th>\n",
              "      <th>Q9_OTHER</th>\n",
              "      <th>Q10_Part_1</th>\n",
              "      <th>Q10_Part_2</th>\n",
              "      <th>Q10_Part_3</th>\n",
              "      <th>Q10_Part_4</th>\n",
              "      <th>Q10_Part_5</th>\n",
              "      <th>Q10_Part_6</th>\n",
              "      <th>Q10_Part_7</th>\n",
              "      <th>...</th>\n",
              "      <th>Q31_B_Part_9</th>\n",
              "      <th>Q31_B_Part_10</th>\n",
              "      <th>Q31_B_Part_11</th>\n",
              "      <th>Q31_B_Part_12</th>\n",
              "      <th>Q31_B_Part_13</th>\n",
              "      <th>Q31_B_Part_14</th>\n",
              "      <th>Q31_B_OTHER</th>\n",
              "      <th>Q33_B_Part_1</th>\n",
              "      <th>Q33_B_Part_2</th>\n",
              "      <th>Q33_B_Part_3</th>\n",
              "      <th>Q33_B_Part_4</th>\n",
              "      <th>Q33_B_Part_5</th>\n",
              "      <th>Q33_B_Part_6</th>\n",
              "      <th>Q33_B_Part_7</th>\n",
              "      <th>Q33_B_OTHER</th>\n",
              "      <th>Q34_B_Part_1</th>\n",
              "      <th>Q34_B_Part_2</th>\n",
              "      <th>Q34_B_Part_3</th>\n",
              "      <th>Q34_B_Part_4</th>\n",
              "      <th>Q34_B_Part_5</th>\n",
              "      <th>Q34_B_Part_6</th>\n",
              "      <th>Q34_B_Part_7</th>\n",
              "      <th>Q34_B_Part_8</th>\n",
              "      <th>Q34_B_Part_9</th>\n",
              "      <th>Q34_B_Part_10</th>\n",
              "      <th>Q34_B_Part_11</th>\n",
              "      <th>Q34_B_OTHER</th>\n",
              "      <th>Q35_B_Part_1</th>\n",
              "      <th>Q35_B_Part_2</th>\n",
              "      <th>Q35_B_Part_3</th>\n",
              "      <th>Q35_B_Part_4</th>\n",
              "      <th>Q35_B_Part_5</th>\n",
              "      <th>Q35_B_Part_6</th>\n",
              "      <th>Q35_B_Part_7</th>\n",
              "      <th>Q35_B_Part_8</th>\n",
              "      <th>Q35_B_Part_9</th>\n",
              "      <th>Q35_B_Part_10</th>\n",
              "      <th>Q35_B_OTHER</th>\n",
              "      <th>Q24_Encoded</th>\n",
              "      <th>Q24_buckets</th>\n",
              "    </tr>\n",
              "  </thead>\n",
              "  <tbody>\n",
              "    <tr>\n",
              "      <th>0</th>\n",
              "      <td>Duration (in seconds)</td>\n",
              "      <td>What is your age (# years)?</td>\n",
              "      <td>What is your gender? - Selected Choice</td>\n",
              "      <td>In which country do you currently reside?</td>\n",
              "      <td>What is the highest level of formal education ...</td>\n",
              "      <td>Select the title most similar to your current ...</td>\n",
              "      <td>For how many years have you been writing code ...</td>\n",
              "      <td>What programming languages do you use on a reg...</td>\n",
              "      <td>What programming languages do you use on a reg...</td>\n",
              "      <td>What programming languages do you use on a reg...</td>\n",
              "      <td>What programming languages do you use on a reg...</td>\n",
              "      <td>What programming languages do you use on a reg...</td>\n",
              "      <td>What programming languages do you use on a reg...</td>\n",
              "      <td>What programming languages do you use on a reg...</td>\n",
              "      <td>What programming languages do you use on a reg...</td>\n",
              "      <td>What programming languages do you use on a reg...</td>\n",
              "      <td>What programming languages do you use on a reg...</td>\n",
              "      <td>What programming languages do you use on a reg...</td>\n",
              "      <td>What programming languages do you use on a reg...</td>\n",
              "      <td>What programming languages do you use on a reg...</td>\n",
              "      <td>What programming language would you recommend ...</td>\n",
              "      <td>Which of the following integrated development ...</td>\n",
              "      <td>Which of the following integrated development ...</td>\n",
              "      <td>Which of the following integrated development ...</td>\n",
              "      <td>Which of the following integrated development ...</td>\n",
              "      <td>Which of the following integrated development ...</td>\n",
              "      <td>Which of the following integrated development ...</td>\n",
              "      <td>Which of the following integrated development ...</td>\n",
              "      <td>Which of the following integrated development ...</td>\n",
              "      <td>Which of the following integrated development ...</td>\n",
              "      <td>Which of the following integrated development ...</td>\n",
              "      <td>Which of the following integrated development ...</td>\n",
              "      <td>Which of the following integrated development ...</td>\n",
              "      <td>Which of the following hosted notebook product...</td>\n",
              "      <td>Which of the following hosted notebook product...</td>\n",
              "      <td>Which of the following hosted notebook product...</td>\n",
              "      <td>Which of the following hosted notebook product...</td>\n",
              "      <td>Which of the following hosted notebook product...</td>\n",
              "      <td>Which of the following hosted notebook product...</td>\n",
              "      <td>Which of the following hosted notebook product...</td>\n",
              "      <td>...</td>\n",
              "      <td>Which of the following business intelligence t...</td>\n",
              "      <td>Which of the following business intelligence t...</td>\n",
              "      <td>Which of the following business intelligence t...</td>\n",
              "      <td>Which of the following business intelligence t...</td>\n",
              "      <td>Which of the following business intelligence t...</td>\n",
              "      <td>Which of the following business intelligence t...</td>\n",
              "      <td>Which of the following business intelligence t...</td>\n",
              "      <td>Which categories of automated machine learning...</td>\n",
              "      <td>Which categories of automated machine learning...</td>\n",
              "      <td>Which categories of automated machine learning...</td>\n",
              "      <td>Which categories of automated machine learning...</td>\n",
              "      <td>Which categories of automated machine learning...</td>\n",
              "      <td>Which categories of automated machine learning...</td>\n",
              "      <td>Which categories of automated machine learning...</td>\n",
              "      <td>Which categories of automated machine learning...</td>\n",
              "      <td>Which specific automated machine learning tool...</td>\n",
              "      <td>Which specific automated machine learning tool...</td>\n",
              "      <td>Which specific automated machine learning tool...</td>\n",
              "      <td>Which specific automated machine learning tool...</td>\n",
              "      <td>Which specific automated machine learning tool...</td>\n",
              "      <td>Which specific automated machine learning tool...</td>\n",
              "      <td>Which specific automated machine learning tool...</td>\n",
              "      <td>Which specific automated machine learning tool...</td>\n",
              "      <td>Which specific automated machine learning tool...</td>\n",
              "      <td>Which specific automated machine learning tool...</td>\n",
              "      <td>Which specific automated machine learning tool...</td>\n",
              "      <td>Which specific automated machine learning tool...</td>\n",
              "      <td>In the next 2 years, do you hope to become mor...</td>\n",
              "      <td>In the next 2 years, do you hope to become mor...</td>\n",
              "      <td>In the next 2 years, do you hope to become mor...</td>\n",
              "      <td>In the next 2 years, do you hope to become mor...</td>\n",
              "      <td>In the next 2 years, do you hope to become mor...</td>\n",
              "      <td>In the next 2 years, do you hope to become mor...</td>\n",
              "      <td>In the next 2 years, do you hope to become mor...</td>\n",
              "      <td>In the next 2 years, do you hope to become mor...</td>\n",
              "      <td>In the next 2 years, do you hope to become mor...</td>\n",
              "      <td>In the next 2 years, do you hope to become mor...</td>\n",
              "      <td>In the next 2 years, do you hope to become mor...</td>\n",
              "      <td>NaN</td>\n",
              "      <td>NaN</td>\n",
              "    </tr>\n",
              "    <tr>\n",
              "      <th>1</th>\n",
              "      <td>289287</td>\n",
              "      <td>30-34</td>\n",
              "      <td>Man</td>\n",
              "      <td>United States of America</td>\n",
              "      <td>Master’s degree</td>\n",
              "      <td>Data Engineer</td>\n",
              "      <td>5-10 years</td>\n",
              "      <td>Python</td>\n",
              "      <td>R</td>\n",
              "      <td>SQL</td>\n",
              "      <td>NaN</td>\n",
              "      <td>NaN</td>\n",
              "      <td>NaN</td>\n",
              "      <td>NaN</td>\n",
              "      <td>NaN</td>\n",
              "      <td>NaN</td>\n",
              "      <td>NaN</td>\n",
              "      <td>NaN</td>\n",
              "      <td>NaN</td>\n",
              "      <td>NaN</td>\n",
              "      <td>Python</td>\n",
              "      <td>NaN</td>\n",
              "      <td>NaN</td>\n",
              "      <td>Visual Studio</td>\n",
              "      <td>NaN</td>\n",
              "      <td>PyCharm</td>\n",
              "      <td>NaN</td>\n",
              "      <td>NaN</td>\n",
              "      <td>Sublime Text</td>\n",
              "      <td>NaN</td>\n",
              "      <td>NaN</td>\n",
              "      <td>NaN</td>\n",
              "      <td>NaN</td>\n",
              "      <td>NaN</td>\n",
              "      <td>Colab Notebooks</td>\n",
              "      <td>NaN</td>\n",
              "      <td>NaN</td>\n",
              "      <td>NaN</td>\n",
              "      <td>NaN</td>\n",
              "      <td>NaN</td>\n",
              "      <td>...</td>\n",
              "      <td>NaN</td>\n",
              "      <td>NaN</td>\n",
              "      <td>NaN</td>\n",
              "      <td>NaN</td>\n",
              "      <td>NaN</td>\n",
              "      <td>NaN</td>\n",
              "      <td>NaN</td>\n",
              "      <td>NaN</td>\n",
              "      <td>NaN</td>\n",
              "      <td>NaN</td>\n",
              "      <td>NaN</td>\n",
              "      <td>NaN</td>\n",
              "      <td>NaN</td>\n",
              "      <td>NaN</td>\n",
              "      <td>NaN</td>\n",
              "      <td>NaN</td>\n",
              "      <td>NaN</td>\n",
              "      <td>NaN</td>\n",
              "      <td>NaN</td>\n",
              "      <td>NaN</td>\n",
              "      <td>NaN</td>\n",
              "      <td>NaN</td>\n",
              "      <td>NaN</td>\n",
              "      <td>NaN</td>\n",
              "      <td>NaN</td>\n",
              "      <td>NaN</td>\n",
              "      <td>NaN</td>\n",
              "      <td>NaN</td>\n",
              "      <td>NaN</td>\n",
              "      <td>NaN</td>\n",
              "      <td>NaN</td>\n",
              "      <td>NaN</td>\n",
              "      <td>NaN</td>\n",
              "      <td>NaN</td>\n",
              "      <td>NaN</td>\n",
              "      <td>NaN</td>\n",
              "      <td>NaN</td>\n",
              "      <td>NaN</td>\n",
              "      <td>10.0</td>\n",
              "      <td>100,000-124,999</td>\n",
              "    </tr>\n",
              "    <tr>\n",
              "      <th>2</th>\n",
              "      <td>860</td>\n",
              "      <td>35-39</td>\n",
              "      <td>Man</td>\n",
              "      <td>Argentina</td>\n",
              "      <td>Bachelor’s degree</td>\n",
              "      <td>Software Engineer</td>\n",
              "      <td>10-20 years</td>\n",
              "      <td>NaN</td>\n",
              "      <td>NaN</td>\n",
              "      <td>NaN</td>\n",
              "      <td>NaN</td>\n",
              "      <td>NaN</td>\n",
              "      <td>Java</td>\n",
              "      <td>Javascript</td>\n",
              "      <td>NaN</td>\n",
              "      <td>NaN</td>\n",
              "      <td>Bash</td>\n",
              "      <td>NaN</td>\n",
              "      <td>NaN</td>\n",
              "      <td>NaN</td>\n",
              "      <td>R</td>\n",
              "      <td>NaN</td>\n",
              "      <td>NaN</td>\n",
              "      <td>NaN</td>\n",
              "      <td>Visual Studio Code (VSCode)</td>\n",
              "      <td>NaN</td>\n",
              "      <td>NaN</td>\n",
              "      <td>Notepad++</td>\n",
              "      <td>Sublime Text</td>\n",
              "      <td>Vim / Emacs</td>\n",
              "      <td>NaN</td>\n",
              "      <td>NaN</td>\n",
              "      <td>NaN</td>\n",
              "      <td>NaN</td>\n",
              "      <td>NaN</td>\n",
              "      <td>NaN</td>\n",
              "      <td>NaN</td>\n",
              "      <td>NaN</td>\n",
              "      <td>NaN</td>\n",
              "      <td>NaN</td>\n",
              "      <td>...</td>\n",
              "      <td>NaN</td>\n",
              "      <td>NaN</td>\n",
              "      <td>NaN</td>\n",
              "      <td>NaN</td>\n",
              "      <td>NaN</td>\n",
              "      <td>None</td>\n",
              "      <td>NaN</td>\n",
              "      <td>NaN</td>\n",
              "      <td>NaN</td>\n",
              "      <td>NaN</td>\n",
              "      <td>NaN</td>\n",
              "      <td>NaN</td>\n",
              "      <td>NaN</td>\n",
              "      <td>None</td>\n",
              "      <td>NaN</td>\n",
              "      <td>NaN</td>\n",
              "      <td>NaN</td>\n",
              "      <td>NaN</td>\n",
              "      <td>NaN</td>\n",
              "      <td>NaN</td>\n",
              "      <td>NaN</td>\n",
              "      <td>NaN</td>\n",
              "      <td>NaN</td>\n",
              "      <td>NaN</td>\n",
              "      <td>NaN</td>\n",
              "      <td>NaN</td>\n",
              "      <td>NaN</td>\n",
              "      <td>NaN</td>\n",
              "      <td>NaN</td>\n",
              "      <td>NaN</td>\n",
              "      <td>NaN</td>\n",
              "      <td>NaN</td>\n",
              "      <td>NaN</td>\n",
              "      <td>NaN</td>\n",
              "      <td>NaN</td>\n",
              "      <td>NaN</td>\n",
              "      <td>None</td>\n",
              "      <td>NaN</td>\n",
              "      <td>1.0</td>\n",
              "      <td>10,000-19,999</td>\n",
              "    </tr>\n",
              "    <tr>\n",
              "      <th>3</th>\n",
              "      <td>507</td>\n",
              "      <td>30-34</td>\n",
              "      <td>Man</td>\n",
              "      <td>United States of America</td>\n",
              "      <td>Master’s degree</td>\n",
              "      <td>Data Scientist</td>\n",
              "      <td>5-10 years</td>\n",
              "      <td>Python</td>\n",
              "      <td>NaN</td>\n",
              "      <td>SQL</td>\n",
              "      <td>NaN</td>\n",
              "      <td>NaN</td>\n",
              "      <td>NaN</td>\n",
              "      <td>NaN</td>\n",
              "      <td>NaN</td>\n",
              "      <td>NaN</td>\n",
              "      <td>Bash</td>\n",
              "      <td>NaN</td>\n",
              "      <td>NaN</td>\n",
              "      <td>NaN</td>\n",
              "      <td>Python</td>\n",
              "      <td>NaN</td>\n",
              "      <td>NaN</td>\n",
              "      <td>NaN</td>\n",
              "      <td>NaN</td>\n",
              "      <td>PyCharm</td>\n",
              "      <td>NaN</td>\n",
              "      <td>NaN</td>\n",
              "      <td>NaN</td>\n",
              "      <td>NaN</td>\n",
              "      <td>NaN</td>\n",
              "      <td>NaN</td>\n",
              "      <td>NaN</td>\n",
              "      <td>NaN</td>\n",
              "      <td>NaN</td>\n",
              "      <td>NaN</td>\n",
              "      <td>NaN</td>\n",
              "      <td>NaN</td>\n",
              "      <td>NaN</td>\n",
              "      <td>NaN</td>\n",
              "      <td>...</td>\n",
              "      <td>NaN</td>\n",
              "      <td>NaN</td>\n",
              "      <td>NaN</td>\n",
              "      <td>NaN</td>\n",
              "      <td>NaN</td>\n",
              "      <td>NaN</td>\n",
              "      <td>NaN</td>\n",
              "      <td>NaN</td>\n",
              "      <td>NaN</td>\n",
              "      <td>NaN</td>\n",
              "      <td>NaN</td>\n",
              "      <td>NaN</td>\n",
              "      <td>NaN</td>\n",
              "      <td>NaN</td>\n",
              "      <td>NaN</td>\n",
              "      <td>NaN</td>\n",
              "      <td>NaN</td>\n",
              "      <td>NaN</td>\n",
              "      <td>NaN</td>\n",
              "      <td>NaN</td>\n",
              "      <td>NaN</td>\n",
              "      <td>NaN</td>\n",
              "      <td>NaN</td>\n",
              "      <td>NaN</td>\n",
              "      <td>NaN</td>\n",
              "      <td>NaN</td>\n",
              "      <td>NaN</td>\n",
              "      <td>NaN</td>\n",
              "      <td>NaN</td>\n",
              "      <td>NaN</td>\n",
              "      <td>NaN</td>\n",
              "      <td>NaN</td>\n",
              "      <td>NaN</td>\n",
              "      <td>NaN</td>\n",
              "      <td>NaN</td>\n",
              "      <td>NaN</td>\n",
              "      <td>NaN</td>\n",
              "      <td>NaN</td>\n",
              "      <td>11.0</td>\n",
              "      <td>125,000-149,999</td>\n",
              "    </tr>\n",
              "    <tr>\n",
              "      <th>4</th>\n",
              "      <td>762</td>\n",
              "      <td>35-39</td>\n",
              "      <td>Man</td>\n",
              "      <td>Germany</td>\n",
              "      <td>Doctoral degree</td>\n",
              "      <td>Data Scientist</td>\n",
              "      <td>5-10 years</td>\n",
              "      <td>Python</td>\n",
              "      <td>NaN</td>\n",
              "      <td>SQL</td>\n",
              "      <td>NaN</td>\n",
              "      <td>NaN</td>\n",
              "      <td>NaN</td>\n",
              "      <td>NaN</td>\n",
              "      <td>NaN</td>\n",
              "      <td>NaN</td>\n",
              "      <td>Bash</td>\n",
              "      <td>NaN</td>\n",
              "      <td>NaN</td>\n",
              "      <td>NaN</td>\n",
              "      <td>Python</td>\n",
              "      <td>Jupyter (JupyterLab, Jupyter Notebooks, etc)</td>\n",
              "      <td>NaN</td>\n",
              "      <td>NaN</td>\n",
              "      <td>NaN</td>\n",
              "      <td>PyCharm</td>\n",
              "      <td>NaN</td>\n",
              "      <td>NaN</td>\n",
              "      <td>Sublime Text</td>\n",
              "      <td>Vim / Emacs</td>\n",
              "      <td>NaN</td>\n",
              "      <td>NaN</td>\n",
              "      <td>NaN</td>\n",
              "      <td>Kaggle Notebooks</td>\n",
              "      <td>Colab Notebooks</td>\n",
              "      <td>NaN</td>\n",
              "      <td>NaN</td>\n",
              "      <td>NaN</td>\n",
              "      <td>NaN</td>\n",
              "      <td>NaN</td>\n",
              "      <td>...</td>\n",
              "      <td>NaN</td>\n",
              "      <td>NaN</td>\n",
              "      <td>NaN</td>\n",
              "      <td>NaN</td>\n",
              "      <td>NaN</td>\n",
              "      <td>NaN</td>\n",
              "      <td>NaN</td>\n",
              "      <td>NaN</td>\n",
              "      <td>NaN</td>\n",
              "      <td>NaN</td>\n",
              "      <td>NaN</td>\n",
              "      <td>NaN</td>\n",
              "      <td>NaN</td>\n",
              "      <td>NaN</td>\n",
              "      <td>NaN</td>\n",
              "      <td>NaN</td>\n",
              "      <td>NaN</td>\n",
              "      <td>NaN</td>\n",
              "      <td>NaN</td>\n",
              "      <td>NaN</td>\n",
              "      <td>NaN</td>\n",
              "      <td>NaN</td>\n",
              "      <td>NaN</td>\n",
              "      <td>NaN</td>\n",
              "      <td>NaN</td>\n",
              "      <td>NaN</td>\n",
              "      <td>NaN</td>\n",
              "      <td>NaN</td>\n",
              "      <td>NaN</td>\n",
              "      <td>NaN</td>\n",
              "      <td>NaN</td>\n",
              "      <td>NaN</td>\n",
              "      <td>NaN</td>\n",
              "      <td>NaN</td>\n",
              "      <td>NaN</td>\n",
              "      <td>NaN</td>\n",
              "      <td>NaN</td>\n",
              "      <td>NaN</td>\n",
              "      <td>7.0</td>\n",
              "      <td>70,000-79,999</td>\n",
              "    </tr>\n",
              "  </tbody>\n",
              "</table>\n",
              "<p>5 rows × 357 columns</p>\n",
              "</div>"
            ],
            "text/plain": [
              "  Time from Start to Finish (seconds)  ...      Q24_buckets\n",
              "0               Duration (in seconds)  ...              NaN\n",
              "1                              289287  ...  100,000-124,999\n",
              "2                                 860  ...    10,000-19,999\n",
              "3                                 507  ...  125,000-149,999\n",
              "4                                 762  ...    70,000-79,999\n",
              "\n",
              "[5 rows x 357 columns]"
            ]
          },
          "metadata": {},
          "execution_count": 3
        }
      ]
    },
    {
      "cell_type": "markdown",
      "metadata": {
        "id": "IGVzL8gmgu6F"
      },
      "source": [
        "#Data Cleaning"
      ],
      "id": "IGVzL8gmgu6F"
    },
    {
      "cell_type": "code",
      "metadata": {
        "ExecuteTime": {
          "end_time": "2021-10-24T17:31:55.725961Z",
          "start_time": "2021-10-24T17:31:55.640143Z"
        },
        "id": "e5c994ff",
        "colab": {
          "base_uri": "https://localhost:8080/",
          "height": 137
        },
        "outputId": "02ecbf6d-94e5-42b0-ca9d-b883f650b788"
      },
      "source": [
        "#convert single choice categorical variavles to dummy variables\n",
        "salary=df.drop(index=0)\n",
        "salary=salary.drop(columns=['Q24'])\n",
        "display(salary[salary.columns[1:7]].isnull().sum(axis=0))# There's no missing value in Q1-Q6"
      ],
      "id": "e5c994ff",
      "execution_count": 4,
      "outputs": [
        {
          "output_type": "display_data",
          "data": {
            "text/plain": [
              "Q1    0\n",
              "Q2    0\n",
              "Q3    0\n",
              "Q4    0\n",
              "Q5    0\n",
              "Q6    0\n",
              "dtype: int64"
            ]
          },
          "metadata": {}
        }
      ]
    },
    {
      "cell_type": "code",
      "metadata": {
        "ExecuteTime": {
          "end_time": "2021-10-24T17:31:55.869462Z",
          "start_time": "2021-10-24T17:31:55.726930Z"
        },
        "id": "1e897351",
        "colab": {
          "base_uri": "https://localhost:8080/",
          "height": 120
        },
        "outputId": "f9e567b1-a9ca-44fb-b0f5-27d2189ae6f7"
      },
      "source": [
        "display(salary['Q2'].value_counts())\n",
        "#type 'Prefer to self-describe' and 'Nonbinary' have too few samples and may have high contingency so we drop rows with those gender data\n",
        "salary=salary.drop(salary[(salary['Q2']=='Prefer to self-describe')|(salary['Q2']=='Nonbinary')].index)\n",
        "salary=pd.get_dummies(data=salary,columns=['Q1','Q2','Q3','Q4','Q5','Q6'])"
      ],
      "id": "1e897351",
      "execution_count": 5,
      "outputs": [
        {
          "output_type": "display_data",
          "data": {
            "text/plain": [
              "Man                        8872\n",
              "Woman                      1683\n",
              "Prefer not to say           131\n",
              "Prefer to self-describe      23\n",
              "Nonbinary                    20\n",
              "Name: Q2, dtype: int64"
            ]
          },
          "metadata": {}
        }
      ]
    },
    {
      "cell_type": "code",
      "metadata": {
        "ExecuteTime": {
          "end_time": "2021-10-24T17:31:55.921279Z",
          "start_time": "2021-10-24T17:31:55.870450Z"
        },
        "id": "69982eac",
        "colab": {
          "base_uri": "https://localhost:8080/",
          "height": 206
        },
        "outputId": "8b6f0458-52d2-404b-86f1-f99b6d554dfe"
      },
      "source": [
        "#other single choice columns\n",
        "display(salary[['Q8','Q11','Q13','Q15','Q20','Q22','Q25','Q30','Q32','Q38']].isnull().sum(axis=0))"
      ],
      "id": "69982eac",
      "execution_count": 6,
      "outputs": [
        {
          "output_type": "display_data",
          "data": {
            "text/plain": [
              "Q8      558\n",
              "Q11     558\n",
              "Q13     558\n",
              "Q15     558\n",
              "Q20       0\n",
              "Q22       0\n",
              "Q25     159\n",
              "Q30    7186\n",
              "Q32    9192\n",
              "Q38    1250\n",
              "dtype: int64"
            ]
          },
          "metadata": {}
        }
      ]
    },
    {
      "cell_type": "code",
      "metadata": {
        "ExecuteTime": {
          "end_time": "2021-10-24T17:31:56.022010Z",
          "start_time": "2021-10-24T17:31:55.922277Z"
        },
        "scrolled": true,
        "id": "68385232",
        "colab": {
          "base_uri": "https://localhost:8080/",
          "height": 206
        },
        "outputId": "c026defa-e401-4ea2-84f5-74ba70e18a23"
      },
      "source": [
        "#we can see Q8-Q15 lost values at the same rows,so we can remove them together\n",
        "salary=salary.drop(salary[salary['Q8'].isnull()].index)\n",
        "#There are not many missing values in Q25 so we just drop the rows with missing Q25\n",
        "salary=salary.drop(salary[salary['Q25'].isnull()].index)\n",
        "display(salary[['Q8','Q11','Q13','Q15','Q20','Q22','Q25','Q30','Q32','Q38']].isnull().sum(axis=0))"
      ],
      "id": "68385232",
      "execution_count": 7,
      "outputs": [
        {
          "output_type": "display_data",
          "data": {
            "text/plain": [
              "Q8        0\n",
              "Q11       0\n",
              "Q13       0\n",
              "Q15       0\n",
              "Q20       0\n",
              "Q22       0\n",
              "Q25       0\n",
              "Q30    6494\n",
              "Q32    8500\n",
              "Q38     891\n",
              "dtype: int64"
            ]
          },
          "metadata": {}
        }
      ]
    },
    {
      "cell_type": "code",
      "metadata": {
        "ExecuteTime": {
          "end_time": "2021-10-24T17:31:56.071611Z",
          "start_time": "2021-10-24T17:31:56.023008Z"
        },
        "id": "83dd0187",
        "colab": {
          "base_uri": "https://localhost:8080/",
          "height": 171
        },
        "outputId": "3482aa90-007b-4ff1-e233-b06fbee5cb04"
      },
      "source": [
        "#for Q30 and Q32, too many values missing and we have to drop the two columns\n",
        "salary=salary.drop(columns=['Q30','Q32'])\n",
        "display(salary[['Q8','Q11','Q13','Q15','Q20','Q22','Q25','Q38']].isnull().sum(axis=0))"
      ],
      "id": "83dd0187",
      "execution_count": 8,
      "outputs": [
        {
          "output_type": "display_data",
          "data": {
            "text/plain": [
              "Q8       0\n",
              "Q11      0\n",
              "Q13      0\n",
              "Q15      0\n",
              "Q20      0\n",
              "Q22      0\n",
              "Q25      0\n",
              "Q38    891\n",
              "dtype: int64"
            ]
          },
          "metadata": {}
        }
      ]
    },
    {
      "cell_type": "code",
      "metadata": {
        "ExecuteTime": {
          "end_time": "2021-10-24T17:31:56.089553Z",
          "start_time": "2021-10-24T17:31:56.072607Z"
        },
        "id": "77a7f0f5",
        "colab": {
          "base_uri": "https://localhost:8080/",
          "height": 291
        },
        "outputId": "54203b15-b8cf-4851-970a-bc49ce89c4b0"
      },
      "source": [
        "#for Q38, we need explore the answer components\n",
        "display(Counter(salary['Q38']))\n",
        "#'Local development environments (RStudio, JupyterLab, etc.)' has dominant number so we replace the nan with mode\n",
        "salary['Q38'].fillna('Local development environments (RStudio, JupyterLab, etc.)',inplace=True)\n",
        "display(salary[['Q8','Q11','Q13','Q15','Q20','Q22','Q25','Q38']].isnull().sum(axis=0))"
      ],
      "id": "77a7f0f5",
      "execution_count": 9,
      "outputs": [
        {
          "output_type": "display_data",
          "data": {
            "text/plain": [
              "Counter({'Advanced statistical software (SPSS, SAS, etc.)': 580,\n",
              "         'Basic statistical software (Microsoft Excel, Google Sheets, etc.)': 2614,\n",
              "         'Business intelligence software (Salesforce, Tableau, Spotfire, etc.)': 637,\n",
              "         'Cloud-based data software & APIs (AWS, GCP, Azure, etc.)': 571,\n",
              "         'Local development environments (RStudio, JupyterLab, etc.)': 4235,\n",
              "         'Other': 466,\n",
              "         nan: 891})"
            ]
          },
          "metadata": {}
        },
        {
          "output_type": "display_data",
          "data": {
            "text/plain": [
              "Q8     0\n",
              "Q11    0\n",
              "Q13    0\n",
              "Q15    0\n",
              "Q20    0\n",
              "Q22    0\n",
              "Q25    0\n",
              "Q38    0\n",
              "dtype: int64"
            ]
          },
          "metadata": {}
        }
      ]
    },
    {
      "cell_type": "code",
      "metadata": {
        "ExecuteTime": {
          "end_time": "2021-10-24T17:31:56.101513Z",
          "start_time": "2021-10-24T17:31:56.092618Z"
        },
        "id": "c4a4b586",
        "colab": {
          "base_uri": "https://localhost:8080/"
        },
        "outputId": "2db0bdda-c547-4c43-8ea8-4c7ea853e367"
      },
      "source": [
        "#for single choice Q21,there is'0' but no nan answer,we donot need to drop '0' beacause it means no one work for data science\n",
        "print(salary['Q21'].isnull().sum())\n",
        "Counter(salary['Q21'])"
      ],
      "id": "c4a4b586",
      "execution_count": 10,
      "outputs": [
        {
          "output_type": "stream",
          "name": "stdout",
          "text": [
            "0\n"
          ]
        },
        {
          "output_type": "execute_result",
          "data": {
            "text/plain": [
              "Counter({'0': 1884,\n",
              "         '1-2': 2374,\n",
              "         '10-14': 622,\n",
              "         '15-19': 278,\n",
              "         '20+': 2035,\n",
              "         '3-4': 1613,\n",
              "         '5-9': 1188})"
            ]
          },
          "metadata": {},
          "execution_count": 10
        }
      ]
    },
    {
      "cell_type": "code",
      "metadata": {
        "ExecuteTime": {
          "end_time": "2021-10-24T17:31:56.200259Z",
          "start_time": "2021-10-24T17:31:56.102510Z"
        },
        "id": "98462a18"
      },
      "source": [
        "#so we can convert the cleaned single choice columns to dummy variables\n",
        "salary=pd.get_dummies(data=salary,columns=['Q8','Q11','Q13','Q15','Q20','Q21','Q22','Q25','Q38'])"
      ],
      "id": "98462a18",
      "execution_count": 11,
      "outputs": []
    },
    {
      "cell_type": "code",
      "metadata": {
        "ExecuteTime": {
          "end_time": "2021-10-24T17:32:00.084964Z",
          "start_time": "2021-10-24T17:31:56.201177Z"
        },
        "id": "ba943fb8"
      },
      "source": [
        "#convert  values in multiple choice to (0,1) pattern\n",
        "for i in range(1,337):\n",
        "    salary[salary.columns[i]].fillna(0,inplace=True)\n",
        "    salary[salary.columns[i]]=salary[salary.columns[i]].map(lambda x:1 if x!=0 else 0)"
      ],
      "id": "ba943fb8",
      "execution_count": 12,
      "outputs": []
    },
    {
      "cell_type": "code",
      "metadata": {
        "ExecuteTime": {
          "end_time": "2021-10-24T17:32:00.920222Z",
          "start_time": "2021-10-24T17:32:00.085980Z"
        },
        "scrolled": true,
        "id": "7858df2c",
        "colab": {
          "base_uri": "https://localhost:8080/",
          "height": 1000
        },
        "outputId": "41f7e4b8-d80f-425c-e516-56d89f2efe73"
      },
      "source": [
        "#figure out how many answers are nan in multiple choices\n",
        "display('Q7',salary.query(\"Q7_Part_1==0 and Q7_Part_2==0 and Q7_Part_3==0 and Q7_Part_4==0 and Q7_Part_5==0 and Q7_Part_6==0 and Q7_Part_7==0 and Q7_Part_8==0 and Q7_Part_9==0 and Q7_Part_10==0 and Q7_Part_11==0 and Q7_Part_12==0 and Q7_OTHER==0\").index)\n",
        "display('Q9',salary.query(\"Q9_Part_1==0 and Q9_Part_2==0 and Q9_Part_3==0 and Q9_Part_4==0 and Q9_Part_5==0 and Q9_Part_6==0 and Q9_Part_7==0 and Q9_Part_8==0 and Q9_Part_9==0 and Q9_Part_10==0 and Q9_Part_11==0 and Q9_OTHER==0\").index)\n",
        "display('Q10',salary.query(\"Q10_Part_1==0 and Q10_Part_2==0 and Q10_Part_3==0 and Q10_Part_4==0 and Q10_Part_5==0 and Q10_Part_6==0 and Q10_Part_7==0 and Q10_Part_8==0 and Q10_Part_9==0 and Q10_Part_10==0 and Q10_Part_11==0 and Q10_Part_12==0 and Q10_Part_13==0 and Q10_OTHER==0\").index)\n",
        "display('Q12',salary.query(\"Q12_Part_1==0 and Q12_Part_2==0 and Q12_Part_3==0 and Q12_OTHER==0\").index)\n",
        "display('Q14',salary.query(\"Q14_Part_1==0 and Q14_Part_2==0 and Q14_Part_3==0 and Q14_Part_4==0 and Q14_Part_5==0 and Q14_Part_6==0 and Q14_Part_7==0 and Q14_Part_8==0 and Q14_Part_9==0 and Q14_Part_10==0 and Q14_Part_11==0 and Q14_OTHER==0\").index)\n",
        "display('Q16',salary.query(\"Q16_Part_1==0 and Q16_Part_2==0 and Q16_Part_3==0 and Q16_Part_4==0 and Q16_Part_5==0 and Q16_Part_6==0 and Q16_Part_7==0 and Q16_Part_8==0 and Q16_Part_9==0 and Q16_Part_10==0 and Q16_Part_11==0 and Q16_Part_12==0 and Q16_Part_13==0 and Q16_Part_14==0 and Q16_Part_15==0 and Q16_OTHER==0\").index)\n",
        "display('Q17',salary.query(\"Q17_Part_1==0 and Q17_Part_2==0 and Q17_Part_3==0 and Q17_Part_4==0 and Q17_Part_5==0 and Q17_Part_6==0 and Q17_Part_7==0 and Q17_Part_8==0 and Q17_Part_9==0 and Q17_Part_10==0 and Q17_Part_11==0 and Q17_OTHER==0\").index)\n",
        "display('Q18',salary.query(\"Q18_Part_1==0 and Q18_Part_2==0 and Q18_Part_3==0 and Q18_Part_4==0 and Q18_Part_5==0 and Q18_Part_6==0 and Q18_OTHER==0\").index)\n",
        "display('Q19',salary.query(\"Q19_Part_1==0 and Q19_Part_2==0 and Q19_Part_3==0 and Q19_Part_4==0 and Q19_Part_5==0 and Q19_OTHER==0\").index)\n",
        "display('Q23',salary.query(\"Q23_Part_1==0 and Q23_Part_2==0 and Q23_Part_3==0 and Q23_Part_4==0 and Q23_Part_5==0 and Q23_Part_6==0 and Q23_Part_7==0 and Q23_OTHER==0\").index)\n",
        "display('Q26A',salary.query(\"Q26_A_Part_1==0 and Q26_A_Part_2==0 and Q26_A_Part_3==0 and Q26_A_Part_4==0 and Q26_A_Part_5==0 and Q26_A_Part_6==0 and Q26_A_Part_7==0 and Q26_A_Part_8==0 and Q26_A_Part_9==0 and Q26_A_Part_10==0 and Q26_A_Part_11==0 and Q26_A_OTHER==0\").index)\n",
        "display('Q27A',salary.query(\"Q27_A_Part_1==0 and Q27_A_Part_2==0 and Q27_A_Part_3==0 and Q27_A_Part_4==0 and Q27_A_Part_5==0 and Q27_A_Part_6==0 and Q27_A_Part_7==0 and Q27_A_Part_8==0 and Q27_A_Part_9==0 and Q27_A_Part_10==0 and Q27_A_Part_11==0 and Q27_A_OTHER==0\").index)\n",
        "display('Q28A',salary.query(\"Q28_A_Part_1==0 and Q28_A_Part_2==0 and Q28_A_Part_3==0 and Q28_A_Part_4==0 and Q28_A_Part_5==0 and Q28_A_Part_6==0 and Q28_A_Part_7==0 and Q28_A_Part_8==0 and Q28_A_Part_9==0 and Q28_A_Part_10==0 and Q28_A_OTHER==0\").index)\n",
        "display('Q29A',salary.query(\"Q29_A_Part_1==0 and Q29_A_Part_2==0 and Q29_A_Part_3==0 and Q29_A_Part_4==0 and Q29_A_Part_5==0 and Q29_A_Part_6==0 and Q29_A_Part_7==0 and Q29_A_Part_8==0 and Q29_A_Part_9==0 and Q29_A_Part_10==0 and Q29_A_Part_11==0 and Q29_A_Part_12==0 and Q29_A_Part_13==0 and Q29_A_Part_14==0 and Q29_A_Part_15==0 and Q29_A_Part_16==0 and Q29_A_Part_17==0 and Q29_A_OTHER==0\").index)\n",
        "display('Q31A',salary.query(\"Q31_A_Part_1==0 and Q31_A_Part_2==0 and Q31_A_Part_3==0 and Q31_A_Part_4==0 and Q31_A_Part_5==0 and Q31_A_Part_6==0 and Q31_A_Part_7==0 and Q31_A_Part_8==0 and Q31_A_Part_9==0 and Q31_A_Part_10==0 and Q31_A_Part_11==0 and Q31_A_Part_12==0 and Q31_A_Part_13==0 and Q31_A_Part_14==0 and Q31_A_OTHER==0\").index)\n",
        "display('Q33A',salary.query(\"Q33_A_Part_1==0 and Q33_A_Part_2==0 and Q33_A_Part_3==0 and Q33_A_Part_4==0 and Q33_A_Part_5==0 and Q33_A_Part_6==0 and Q33_A_Part_7==0 and Q33_A_OTHER==0\").index)\n",
        "display('Q34A',salary.query(\"Q34_A_Part_1==0 and Q34_A_Part_2==0 and Q34_A_Part_3==0 and Q34_A_Part_4==0 and Q34_A_Part_5==0 and Q34_A_Part_6==0 and Q34_A_Part_7==0 and Q34_A_Part_8==0 and Q34_A_Part_9==0 and Q34_A_Part_10==0 and Q34_A_Part_11==0 and Q34_A_OTHER==0\").index)\n",
        "display('Q35A',salary.query(\"Q35_A_Part_1==0 and Q35_A_Part_2==0 and Q35_A_Part_3==0 and Q35_A_Part_4==0 and Q35_A_Part_5==0 and Q35_A_Part_6==0 and Q35_A_Part_7==0 and Q35_A_Part_8==0 and Q35_A_Part_9==0 and Q35_A_Part_10==0 and Q35_A_OTHER==0\").index)\n",
        "display('Q36',salary.query(\"Q36_Part_1==0 and Q36_Part_2==0 and Q36_Part_3==0 and Q36_Part_4==0 and Q36_Part_5==0 and Q36_Part_6==0 and Q36_Part_7==0 and Q36_Part_8==0 and Q36_Part_9==0 and Q36_OTHER==0\").index)\n",
        "display('Q37',salary.query(\"Q37_Part_1==0 and Q37_Part_2==0 and Q37_Part_3==0 and Q37_Part_4==0 and Q37_Part_5==0 and Q37_Part_6==0 and Q37_Part_7==0 and Q37_Part_8==0 and Q37_Part_9==0 and Q37_Part_10==0 and Q37_Part_11==0 and Q37_OTHER==0\").index)\n",
        "display('Q39',salary.query(\"Q39_Part_1==0 and Q39_Part_2==0 and Q39_Part_3==0 and Q39_Part_4==0 and Q39_Part_5==0 and Q39_Part_6==0 and Q39_Part_7==0 and Q39_Part_8==0 and Q39_Part_9==0 and Q39_Part_10==0 and Q39_Part_11==0 and Q39_OTHER==0\").index)\n",
        "display('Q26B',salary.query(\"Q26_B_Part_1==0 and Q26_B_Part_2==0 and Q26_B_Part_3==0 and Q26_B_Part_4==0 and Q26_B_Part_5==0 and Q26_B_Part_6==0 and Q26_B_Part_7==0 and Q26_B_Part_8==0 and Q26_B_Part_9==0 and Q26_B_Part_10==0 and Q26_B_Part_11==0 and Q26_B_OTHER==0\").index)\n",
        "display('Q27B',salary.query(\"Q27_B_Part_1==0 and Q27_B_Part_2==0 and Q27_B_Part_3==0 and Q27_B_Part_4==0 and Q27_B_Part_5==0 and Q27_B_Part_6==0 and Q27_B_Part_7==0 and Q27_B_Part_8==0 and Q27_B_Part_9==0 and Q27_B_Part_10==0 and Q27_B_Part_11==0 and Q27_B_OTHER==0\").index)\n",
        "display('Q28B',salary.query(\"Q28_B_Part_1==0 and Q28_B_Part_2==0 and Q28_B_Part_3==0 and Q28_B_Part_4==0 and Q28_B_Part_5==0 and Q28_B_Part_6==0 and Q28_B_Part_7==0 and Q28_B_Part_8==0 and Q28_B_Part_9==0 and Q28_B_Part_10==0 and Q28_B_OTHER==0\").index)\n",
        "display('Q29B',salary.query(\"Q29_B_Part_1==0 and Q29_B_Part_2==0 and Q29_B_Part_3==0 and Q29_B_Part_4==0 and Q29_B_Part_5==0 and Q29_B_Part_6==0 and Q29_B_Part_7==0 and Q29_B_Part_8==0 and Q29_B_Part_9==0 and Q29_B_Part_10==0 and Q29_B_Part_11==0 and Q29_B_Part_12==0 and Q29_B_Part_13==0 and Q29_B_Part_14==0 and Q29_B_Part_15==0 and Q29_B_Part_16==0 and Q29_B_Part_17==0 and Q29_B_OTHER==0\").index)\n",
        "display('Q31B',salary.query(\"Q31_B_Part_1==0 and Q31_B_Part_2==0 and Q31_B_Part_3==0 and Q31_B_Part_4==0 and Q31_B_Part_5==0 and Q31_B_Part_6==0 and Q31_B_Part_7==0 and Q31_B_Part_8==0 and Q31_B_Part_9==0 and Q31_B_Part_10==0 and Q31_B_Part_11==0 and Q31_B_Part_12==0 and Q31_B_Part_13==0 and Q31_B_Part_14==0 and Q31_B_OTHER==0\").index)\n",
        "display('Q33B',salary.query(\"Q33_B_Part_1==0 and Q33_B_Part_2==0 and Q33_B_Part_3==0 and Q33_B_Part_4==0 and Q33_B_Part_5==0 and Q33_B_Part_6==0 and Q33_B_Part_7==0 and Q33_B_OTHER==0\").index)\n",
        "display('Q34B',salary.query(\"Q34_B_Part_1==0 and Q34_B_Part_2==0 and Q34_B_Part_3==0 and Q34_B_Part_4==0 and Q34_B_Part_5==0 and Q34_B_Part_6==0 and Q34_B_Part_7==0 and Q34_B_Part_8==0 and Q34_B_Part_9==0 and Q34_B_Part_10==0 and Q34_B_Part_11==0 and Q34_B_OTHER==0\").index)\n",
        "display('Q35B',salary.query(\"Q35_B_Part_1==0 and Q35_B_Part_2==0 and Q35_B_Part_3==0 and Q35_B_Part_4==0 and Q35_B_Part_5==0 and Q35_B_Part_6==0 and Q35_B_Part_7==0 and Q35_B_Part_8==0 and Q35_B_Part_9==0 and Q35_B_Part_10==0 and Q35_B_OTHER==0\").index)"
      ],
      "id": "7858df2c",
      "execution_count": 13,
      "outputs": [
        {
          "output_type": "display_data",
          "data": {
            "application/vnd.google.colaboratory.intrinsic+json": {
              "type": "string"
            },
            "text/plain": [
              "'Q7'"
            ]
          },
          "metadata": {}
        },
        {
          "output_type": "display_data",
          "data": {
            "text/plain": [
              "Int64Index([], dtype='int64')"
            ]
          },
          "metadata": {}
        },
        {
          "output_type": "display_data",
          "data": {
            "application/vnd.google.colaboratory.intrinsic+json": {
              "type": "string"
            },
            "text/plain": [
              "'Q9'"
            ]
          },
          "metadata": {}
        },
        {
          "output_type": "display_data",
          "data": {
            "text/plain": [
              "Int64Index([], dtype='int64')"
            ]
          },
          "metadata": {}
        },
        {
          "output_type": "display_data",
          "data": {
            "application/vnd.google.colaboratory.intrinsic+json": {
              "type": "string"
            },
            "text/plain": [
              "'Q10'"
            ]
          },
          "metadata": {}
        },
        {
          "output_type": "display_data",
          "data": {
            "text/plain": [
              "Int64Index([], dtype='int64')"
            ]
          },
          "metadata": {}
        },
        {
          "output_type": "display_data",
          "data": {
            "application/vnd.google.colaboratory.intrinsic+json": {
              "type": "string"
            },
            "text/plain": [
              "'Q12'"
            ]
          },
          "metadata": {}
        },
        {
          "output_type": "display_data",
          "data": {
            "text/plain": [
              "Int64Index([], dtype='int64')"
            ]
          },
          "metadata": {}
        },
        {
          "output_type": "display_data",
          "data": {
            "application/vnd.google.colaboratory.intrinsic+json": {
              "type": "string"
            },
            "text/plain": [
              "'Q14'"
            ]
          },
          "metadata": {}
        },
        {
          "output_type": "display_data",
          "data": {
            "text/plain": [
              "Int64Index([], dtype='int64')"
            ]
          },
          "metadata": {}
        },
        {
          "output_type": "display_data",
          "data": {
            "application/vnd.google.colaboratory.intrinsic+json": {
              "type": "string"
            },
            "text/plain": [
              "'Q16'"
            ]
          },
          "metadata": {}
        },
        {
          "output_type": "display_data",
          "data": {
            "text/plain": [
              "Int64Index([    2,    11,    27,    28,    41,    51,    70,   113,   116,\n",
              "              134,\n",
              "            ...\n",
              "            10652, 10654, 10661, 10668, 10686, 10690, 10691, 10702, 10726,\n",
              "            10727],\n",
              "           dtype='int64', length=1025)"
            ]
          },
          "metadata": {}
        },
        {
          "output_type": "display_data",
          "data": {
            "application/vnd.google.colaboratory.intrinsic+json": {
              "type": "string"
            },
            "text/plain": [
              "'Q17'"
            ]
          },
          "metadata": {}
        },
        {
          "output_type": "display_data",
          "data": {
            "text/plain": [
              "Int64Index([    2,    11,    27,    28,    41,    51,    70,   113,   116,\n",
              "              134,\n",
              "            ...\n",
              "            10652, 10654, 10661, 10668, 10686, 10690, 10691, 10702, 10726,\n",
              "            10727],\n",
              "           dtype='int64', length=1025)"
            ]
          },
          "metadata": {}
        },
        {
          "output_type": "display_data",
          "data": {
            "application/vnd.google.colaboratory.intrinsic+json": {
              "type": "string"
            },
            "text/plain": [
              "'Q18'"
            ]
          },
          "metadata": {}
        },
        {
          "output_type": "display_data",
          "data": {
            "text/plain": [
              "Int64Index([    2,     3,     5,     7,     8,     9,    10,    11,    14,\n",
              "               19,\n",
              "            ...\n",
              "            10711, 10712, 10715, 10716, 10718, 10719, 10723, 10724, 10726,\n",
              "            10727],\n",
              "           dtype='int64', length=6148)"
            ]
          },
          "metadata": {}
        },
        {
          "output_type": "display_data",
          "data": {
            "application/vnd.google.colaboratory.intrinsic+json": {
              "type": "string"
            },
            "text/plain": [
              "'Q19'"
            ]
          },
          "metadata": {}
        },
        {
          "output_type": "display_data",
          "data": {
            "text/plain": [
              "Int64Index([    2,     3,     4,     5,     7,     8,     9,    10,    11,\n",
              "               12,\n",
              "            ...\n",
              "            10715, 10716, 10718, 10719, 10721, 10722, 10723, 10726, 10727,\n",
              "            10729],\n",
              "           dtype='int64', length=7311)"
            ]
          },
          "metadata": {}
        },
        {
          "output_type": "display_data",
          "data": {
            "application/vnd.google.colaboratory.intrinsic+json": {
              "type": "string"
            },
            "text/plain": [
              "'Q23'"
            ]
          },
          "metadata": {}
        },
        {
          "output_type": "display_data",
          "data": {
            "text/plain": [
              "Int64Index([], dtype='int64')"
            ]
          },
          "metadata": {}
        },
        {
          "output_type": "display_data",
          "data": {
            "application/vnd.google.colaboratory.intrinsic+json": {
              "type": "string"
            },
            "text/plain": [
              "'Q26A'"
            ]
          },
          "metadata": {}
        },
        {
          "output_type": "display_data",
          "data": {
            "text/plain": [
              "Int64Index([    7,     8,    12,    14,    22,    23,    25,    33,    34,\n",
              "               38,\n",
              "            ...\n",
              "            10708, 10709, 10710, 10711, 10715, 10724, 10725, 10727, 10728,\n",
              "            10729],\n",
              "           dtype='int64', length=3123)"
            ]
          },
          "metadata": {}
        },
        {
          "output_type": "display_data",
          "data": {
            "application/vnd.google.colaboratory.intrinsic+json": {
              "type": "string"
            },
            "text/plain": [
              "'Q27A'"
            ]
          },
          "metadata": {}
        },
        {
          "output_type": "display_data",
          "data": {
            "text/plain": [
              "Int64Index([    2,     5,     7,     8,     9,    12,    13,    14,    15,\n",
              "               22,\n",
              "            ...\n",
              "            10712, 10713, 10715, 10719, 10723, 10724, 10725, 10727, 10728,\n",
              "            10729],\n",
              "           dtype='int64', length=5464)"
            ]
          },
          "metadata": {}
        },
        {
          "output_type": "display_data",
          "data": {
            "application/vnd.google.colaboratory.intrinsic+json": {
              "type": "string"
            },
            "text/plain": [
              "'Q28A'"
            ]
          },
          "metadata": {}
        },
        {
          "output_type": "display_data",
          "data": {
            "text/plain": [
              "Int64Index([    2,     5,     7,     8,     9,    12,    13,    14,    15,\n",
              "               22,\n",
              "            ...\n",
              "            10712, 10713, 10715, 10719, 10723, 10724, 10725, 10727, 10728,\n",
              "            10729],\n",
              "           dtype='int64', length=5489)"
            ]
          },
          "metadata": {}
        },
        {
          "output_type": "display_data",
          "data": {
            "application/vnd.google.colaboratory.intrinsic+json": {
              "type": "string"
            },
            "text/plain": [
              "'Q29A'"
            ]
          },
          "metadata": {}
        },
        {
          "output_type": "display_data",
          "data": {
            "text/plain": [
              "Int64Index([    7,     8,    12,    14,    22,    23,    25,    33,    34,\n",
              "               38,\n",
              "            ...\n",
              "            10708, 10709, 10710, 10711, 10715, 10724, 10725, 10727, 10728,\n",
              "            10729],\n",
              "           dtype='int64', length=3240)"
            ]
          },
          "metadata": {}
        },
        {
          "output_type": "display_data",
          "data": {
            "application/vnd.google.colaboratory.intrinsic+json": {
              "type": "string"
            },
            "text/plain": [
              "'Q31A'"
            ]
          },
          "metadata": {}
        },
        {
          "output_type": "display_data",
          "data": {
            "text/plain": [
              "Int64Index([    7,     8,    12,    14,    22,    23,    25,    33,    34,\n",
              "               38,\n",
              "            ...\n",
              "            10708, 10709, 10710, 10711, 10715, 10724, 10725, 10727, 10728,\n",
              "            10729],\n",
              "           dtype='int64', length=3289)"
            ]
          },
          "metadata": {}
        },
        {
          "output_type": "display_data",
          "data": {
            "application/vnd.google.colaboratory.intrinsic+json": {
              "type": "string"
            },
            "text/plain": [
              "'Q33A'"
            ]
          },
          "metadata": {}
        },
        {
          "output_type": "display_data",
          "data": {
            "text/plain": [
              "Int64Index([    7,     8,    12,    14,    22,    23,    25,    33,    34,\n",
              "               38,\n",
              "            ...\n",
              "            10708, 10709, 10710, 10711, 10715, 10724, 10725, 10727, 10728,\n",
              "            10729],\n",
              "           dtype='int64', length=3323)"
            ]
          },
          "metadata": {}
        },
        {
          "output_type": "display_data",
          "data": {
            "application/vnd.google.colaboratory.intrinsic+json": {
              "type": "string"
            },
            "text/plain": [
              "'Q34A'"
            ]
          },
          "metadata": {}
        },
        {
          "output_type": "display_data",
          "data": {
            "text/plain": [
              "Int64Index([    1,     2,     3,     4,     5,     7,     8,     9,    10,\n",
              "               11,\n",
              "            ...\n",
              "            10719, 10720, 10721, 10723, 10724, 10725, 10726, 10727, 10728,\n",
              "            10729],\n",
              "           dtype='int64', length=8003)"
            ]
          },
          "metadata": {}
        },
        {
          "output_type": "display_data",
          "data": {
            "application/vnd.google.colaboratory.intrinsic+json": {
              "type": "string"
            },
            "text/plain": [
              "'Q35A'"
            ]
          },
          "metadata": {}
        },
        {
          "output_type": "display_data",
          "data": {
            "text/plain": [
              "Int64Index([    7,     8,    12,    14,    22,    23,    25,    33,    34,\n",
              "               38,\n",
              "            ...\n",
              "            10708, 10709, 10710, 10711, 10715, 10724, 10725, 10727, 10728,\n",
              "            10729],\n",
              "           dtype='int64', length=3372)"
            ]
          },
          "metadata": {}
        },
        {
          "output_type": "display_data",
          "data": {
            "application/vnd.google.colaboratory.intrinsic+json": {
              "type": "string"
            },
            "text/plain": [
              "'Q36'"
            ]
          },
          "metadata": {}
        },
        {
          "output_type": "display_data",
          "data": {
            "text/plain": [
              "Int64Index([    2,     7,     8,    12,    14,    22,    23,    25,    33,\n",
              "               34,\n",
              "            ...\n",
              "            10708, 10709, 10710, 10711, 10715, 10724, 10725, 10727, 10728,\n",
              "            10729],\n",
              "           dtype='int64', length=3393)"
            ]
          },
          "metadata": {}
        },
        {
          "output_type": "display_data",
          "data": {
            "application/vnd.google.colaboratory.intrinsic+json": {
              "type": "string"
            },
            "text/plain": [
              "'Q37'"
            ]
          },
          "metadata": {}
        },
        {
          "output_type": "display_data",
          "data": {
            "text/plain": [
              "Int64Index([   22,    23,    62,   103,   118,   135,   154,   166,   172,\n",
              "              190,\n",
              "            ...\n",
              "            10627, 10638, 10654, 10665, 10669, 10682, 10684, 10701, 10702,\n",
              "            10727],\n",
              "           dtype='int64', length=667)"
            ]
          },
          "metadata": {}
        },
        {
          "output_type": "display_data",
          "data": {
            "application/vnd.google.colaboratory.intrinsic+json": {
              "type": "string"
            },
            "text/plain": [
              "'Q39'"
            ]
          },
          "metadata": {}
        },
        {
          "output_type": "display_data",
          "data": {
            "text/plain": [
              "Int64Index([   22,    23,    37,    50,    62,    75,    81,   103,   118,\n",
              "              135,\n",
              "            ...\n",
              "            10654, 10665, 10669, 10682, 10683, 10684, 10701, 10702, 10712,\n",
              "            10727],\n",
              "           dtype='int64', length=935)"
            ]
          },
          "metadata": {}
        },
        {
          "output_type": "display_data",
          "data": {
            "application/vnd.google.colaboratory.intrinsic+json": {
              "type": "string"
            },
            "text/plain": [
              "'Q26B'"
            ]
          },
          "metadata": {}
        },
        {
          "output_type": "display_data",
          "data": {
            "text/plain": [
              "Int64Index([    1,     3,     4,     5,     6,     9,    10,    13,    15,\n",
              "               16,\n",
              "            ...\n",
              "            10713, 10714, 10716, 10717, 10718, 10719, 10720, 10721, 10722,\n",
              "            10723],\n",
              "           dtype='int64', length=6478)"
            ]
          },
          "metadata": {}
        },
        {
          "output_type": "display_data",
          "data": {
            "application/vnd.google.colaboratory.intrinsic+json": {
              "type": "string"
            },
            "text/plain": [
              "'Q27B'"
            ]
          },
          "metadata": {}
        },
        {
          "output_type": "display_data",
          "data": {
            "text/plain": [
              "Int64Index([    1,     2,     3,     4,     5,     6,     9,    10,    13,\n",
              "               15,\n",
              "            ...\n",
              "            10716, 10717, 10718, 10719, 10720, 10721, 10722, 10723, 10727,\n",
              "            10728],\n",
              "           dtype='int64', length=7266)"
            ]
          },
          "metadata": {}
        },
        {
          "output_type": "display_data",
          "data": {
            "application/vnd.google.colaboratory.intrinsic+json": {
              "type": "string"
            },
            "text/plain": [
              "'Q28B'"
            ]
          },
          "metadata": {}
        },
        {
          "output_type": "display_data",
          "data": {
            "text/plain": [
              "Int64Index([    1,     2,     3,     4,     5,     6,     9,    10,    13,\n",
              "               15,\n",
              "            ...\n",
              "            10716, 10717, 10718, 10719, 10720, 10721, 10722, 10723, 10727,\n",
              "            10728],\n",
              "           dtype='int64', length=7310)"
            ]
          },
          "metadata": {}
        },
        {
          "output_type": "display_data",
          "data": {
            "application/vnd.google.colaboratory.intrinsic+json": {
              "type": "string"
            },
            "text/plain": [
              "'Q29B'"
            ]
          },
          "metadata": {}
        },
        {
          "output_type": "display_data",
          "data": {
            "text/plain": [
              "Int64Index([    1,     3,     4,     5,     6,     9,    10,    13,    15,\n",
              "               16,\n",
              "            ...\n",
              "            10713, 10714, 10716, 10717, 10718, 10719, 10720, 10721, 10722,\n",
              "            10723],\n",
              "           dtype='int64', length=6603)"
            ]
          },
          "metadata": {}
        },
        {
          "output_type": "display_data",
          "data": {
            "application/vnd.google.colaboratory.intrinsic+json": {
              "type": "string"
            },
            "text/plain": [
              "'Q31B'"
            ]
          },
          "metadata": {}
        },
        {
          "output_type": "display_data",
          "data": {
            "text/plain": [
              "Int64Index([    1,     3,     4,     5,     6,     9,    10,    13,    15,\n",
              "               16,\n",
              "            ...\n",
              "            10713, 10714, 10716, 10717, 10718, 10719, 10720, 10721, 10722,\n",
              "            10723],\n",
              "           dtype='int64', length=6658)"
            ]
          },
          "metadata": {}
        },
        {
          "output_type": "display_data",
          "data": {
            "application/vnd.google.colaboratory.intrinsic+json": {
              "type": "string"
            },
            "text/plain": [
              "'Q33B'"
            ]
          },
          "metadata": {}
        },
        {
          "output_type": "display_data",
          "data": {
            "text/plain": [
              "Int64Index([    1,     3,     4,     5,     6,     9,    10,    13,    15,\n",
              "               16,\n",
              "            ...\n",
              "            10714, 10716, 10717, 10718, 10719, 10720, 10721, 10722, 10723,\n",
              "            10727],\n",
              "           dtype='int64', length=6721)"
            ]
          },
          "metadata": {}
        },
        {
          "output_type": "display_data",
          "data": {
            "application/vnd.google.colaboratory.intrinsic+json": {
              "type": "string"
            },
            "text/plain": [
              "'Q34B'"
            ]
          },
          "metadata": {}
        },
        {
          "output_type": "display_data",
          "data": {
            "text/plain": [
              "Int64Index([    1,     2,     3,     4,     5,     6,     8,     9,    10,\n",
              "               12,\n",
              "            ...\n",
              "            10715, 10716, 10717, 10718, 10719, 10720, 10721, 10722, 10723,\n",
              "            10727],\n",
              "           dtype='int64', length=7749)"
            ]
          },
          "metadata": {}
        },
        {
          "output_type": "display_data",
          "data": {
            "application/vnd.google.colaboratory.intrinsic+json": {
              "type": "string"
            },
            "text/plain": [
              "'Q35B'"
            ]
          },
          "metadata": {}
        },
        {
          "output_type": "display_data",
          "data": {
            "text/plain": [
              "Int64Index([    1,     3,     4,     5,     6,     9,    10,    13,    15,\n",
              "               16,\n",
              "            ...\n",
              "            10714, 10716, 10717, 10718, 10719, 10720, 10721, 10722, 10723,\n",
              "            10727],\n",
              "           dtype='int64', length=6792)"
            ]
          },
          "metadata": {}
        }
      ]
    },
    {
      "cell_type": "code",
      "metadata": {
        "ExecuteTime": {
          "end_time": "2021-10-24T17:32:00.945739Z",
          "start_time": "2021-10-24T17:32:00.922216Z"
        },
        "id": "e23dad93"
      },
      "source": [
        "#we can see that choices with A/B part all have much rows nan so we have to drop those features\n",
        "salary=salary.drop(columns=salary.columns[105:204])\n",
        "salary=salary.drop(columns=salary.columns[139:238])"
      ],
      "id": "e23dad93",
      "execution_count": 14,
      "outputs": []
    },
    {
      "cell_type": "code",
      "metadata": {
        "ExecuteTime": {
          "end_time": "2021-10-24T17:32:00.957700Z",
          "start_time": "2021-10-24T17:32:00.947731Z"
        },
        "id": "4cac4261"
      },
      "source": [
        "#Q18 Q19 Q36 also lost too much values and we drop these columns\n",
        "salary=salary.drop(columns=['Q18_Part_1','Q18_Part_2','Q18_Part_3','Q18_Part_4','Q18_Part_5','Q18_Part_6','Q18_OTHER','Q19_Part_1',\n",
        "                            'Q19_Part_2','Q19_Part_3','Q19_Part_4','Q19_Part_5','Q19_OTHER','Q36_Part_1','Q36_Part_2','Q36_Part_3',\n",
        "                            'Q36_Part_4','Q36_Part_5','Q36_Part_6','Q36_Part_7','Q36_Part_8','Q36_Part_9','Q36_OTHER'])                           "
      ],
      "id": "4cac4261",
      "execution_count": 15,
      "outputs": []
    },
    {
      "cell_type": "code",
      "metadata": {
        "ExecuteTime": {
          "end_time": "2021-10-24T17:32:01.047399Z",
          "start_time": "2021-10-24T17:32:00.959694Z"
        },
        "id": "b9c31dc0",
        "colab": {
          "base_uri": "https://localhost:8080/",
          "height": 502
        },
        "outputId": "f15f49cc-84a5-4972-c2ec-ae4489e0ff48"
      },
      "source": [
        "#for Q16 and Q17 we can drop the rows which are nan since missing values are not much\n",
        "index_q16=salary.query(\"Q16_Part_1==0 and Q16_Part_2==0 and Q16_Part_3==0 and Q16_Part_4==0 and Q16_Part_5==0 and Q16_Part_6==0 and Q16_Part_7==0 and Q16_Part_8==0 and Q16_Part_9==0 and Q16_Part_10==0 and Q16_Part_11==0 and Q16_Part_12==0 and Q16_Part_13==0 and Q16_Part_14==0 and Q16_Part_15==0 and Q16_OTHER==0\").index\n",
        "salary=salary.drop(index=index_q16)\n",
        "display(salary.query(\"Q16_Part_1==0 and Q16_Part_2==0 and Q16_Part_3==0 and Q16_Part_4==0 and Q16_Part_5==0 and Q16_Part_6==0 and Q16_Part_7==0 and Q16_Part_8==0 and Q16_Part_9==0 and Q16_Part_10==0 and Q16_Part_11==0 and Q16_Part_12==0 and Q16_Part_13==0 and Q16_Part_14==0 and Q16_Part_15==0 and Q16_OTHER==0\"))\n",
        "display(salary.query(\"Q17_Part_1==0 and Q17_Part_2==0 and Q17_Part_3==0 and Q17_Part_4==0 and Q17_Part_5==0 and Q17_Part_6==0 and Q17_Part_7==0 and Q17_Part_8==0 and Q17_Part_9==0 and Q17_Part_10==0 and Q17_Part_11==0 and Q17_OTHER==0\"))\n",
        "#we can see Q16 and Q17 miss values at same rows"
      ],
      "id": "b9c31dc0",
      "execution_count": 16,
      "outputs": [
        {
          "output_type": "display_data",
          "data": {
            "text/html": [
              "<div>\n",
              "<style scoped>\n",
              "    .dataframe tbody tr th:only-of-type {\n",
              "        vertical-align: middle;\n",
              "    }\n",
              "\n",
              "    .dataframe tbody tr th {\n",
              "        vertical-align: top;\n",
              "    }\n",
              "\n",
              "    .dataframe thead th {\n",
              "        text-align: right;\n",
              "    }\n",
              "</style>\n",
              "<table border=\"1\" class=\"dataframe\">\n",
              "  <thead>\n",
              "    <tr style=\"text-align: right;\">\n",
              "      <th></th>\n",
              "      <th>Time from Start to Finish (seconds)</th>\n",
              "      <th>Q7_Part_1</th>\n",
              "      <th>Q7_Part_2</th>\n",
              "      <th>Q7_Part_3</th>\n",
              "      <th>Q7_Part_4</th>\n",
              "      <th>Q7_Part_5</th>\n",
              "      <th>Q7_Part_6</th>\n",
              "      <th>Q7_Part_7</th>\n",
              "      <th>Q7_Part_8</th>\n",
              "      <th>Q7_Part_9</th>\n",
              "      <th>Q7_Part_10</th>\n",
              "      <th>Q7_Part_11</th>\n",
              "      <th>Q7_Part_12</th>\n",
              "      <th>Q7_OTHER</th>\n",
              "      <th>Q9_Part_1</th>\n",
              "      <th>Q9_Part_2</th>\n",
              "      <th>Q9_Part_3</th>\n",
              "      <th>Q9_Part_4</th>\n",
              "      <th>Q9_Part_5</th>\n",
              "      <th>Q9_Part_6</th>\n",
              "      <th>Q9_Part_7</th>\n",
              "      <th>Q9_Part_8</th>\n",
              "      <th>Q9_Part_9</th>\n",
              "      <th>Q9_Part_10</th>\n",
              "      <th>Q9_Part_11</th>\n",
              "      <th>Q9_OTHER</th>\n",
              "      <th>Q10_Part_1</th>\n",
              "      <th>Q10_Part_2</th>\n",
              "      <th>Q10_Part_3</th>\n",
              "      <th>Q10_Part_4</th>\n",
              "      <th>Q10_Part_5</th>\n",
              "      <th>Q10_Part_6</th>\n",
              "      <th>Q10_Part_7</th>\n",
              "      <th>Q10_Part_8</th>\n",
              "      <th>Q10_Part_9</th>\n",
              "      <th>Q10_Part_10</th>\n",
              "      <th>Q10_Part_11</th>\n",
              "      <th>Q10_Part_12</th>\n",
              "      <th>Q10_Part_13</th>\n",
              "      <th>Q10_OTHER</th>\n",
              "      <th>...</th>\n",
              "      <th>Q13_Once</th>\n",
              "      <th>Q15_1-2 years</th>\n",
              "      <th>Q15_10-20 years</th>\n",
              "      <th>Q15_2-3 years</th>\n",
              "      <th>Q15_20 or more years</th>\n",
              "      <th>Q15_3-4 years</th>\n",
              "      <th>Q15_4-5 years</th>\n",
              "      <th>Q15_5-10 years</th>\n",
              "      <th>Q15_I do not use machine learning methods</th>\n",
              "      <th>Q15_Under 1 year</th>\n",
              "      <th>Q20_0-49 employees</th>\n",
              "      <th>Q20_10,000 or more employees</th>\n",
              "      <th>Q20_1000-9,999 employees</th>\n",
              "      <th>Q20_250-999 employees</th>\n",
              "      <th>Q20_50-249 employees</th>\n",
              "      <th>Q21_0</th>\n",
              "      <th>Q21_1-2</th>\n",
              "      <th>Q21_10-14</th>\n",
              "      <th>Q21_15-19</th>\n",
              "      <th>Q21_20+</th>\n",
              "      <th>Q21_3-4</th>\n",
              "      <th>Q21_5-9</th>\n",
              "      <th>Q22_I do not know</th>\n",
              "      <th>Q22_No (we do not use ML methods)</th>\n",
              "      <th>Q22_We are exploring ML methods (and may one day put a model into production)</th>\n",
              "      <th>Q22_We have well established ML methods (i.e., models in production for more than 2 years)</th>\n",
              "      <th>Q22_We recently started using ML methods (i.e., models in production for less than 2 years)</th>\n",
              "      <th>Q22_We use ML methods for generating insights (but do not put working models into production)</th>\n",
              "      <th>Q25_$0 ($USD)</th>\n",
              "      <th>Q25_$1-$99</th>\n",
              "      <th>Q25_$10,000-$99,999</th>\n",
              "      <th>Q25_$100,000 or more ($USD)</th>\n",
              "      <th>Q25_$100-$999</th>\n",
              "      <th>Q25_$1000-$9,999</th>\n",
              "      <th>Q38_Advanced statistical software (SPSS, SAS, etc.)</th>\n",
              "      <th>Q38_Basic statistical software (Microsoft Excel, Google Sheets, etc.)</th>\n",
              "      <th>Q38_Business intelligence software (Salesforce, Tableau, Spotfire, etc.)</th>\n",
              "      <th>Q38_Cloud-based data software &amp; APIs (AWS, GCP, Azure, etc.)</th>\n",
              "      <th>Q38_Local development environments (RStudio, JupyterLab, etc.)</th>\n",
              "      <th>Q38_Other</th>\n",
              "    </tr>\n",
              "  </thead>\n",
              "  <tbody>\n",
              "  </tbody>\n",
              "</table>\n",
              "<p>0 rows × 274 columns</p>\n",
              "</div>"
            ],
            "text/plain": [
              "Empty DataFrame\n",
              "Columns: [Time from Start to Finish (seconds), Q7_Part_1, Q7_Part_2, Q7_Part_3, Q7_Part_4, Q7_Part_5, Q7_Part_6, Q7_Part_7, Q7_Part_8, Q7_Part_9, Q7_Part_10, Q7_Part_11, Q7_Part_12, Q7_OTHER, Q9_Part_1, Q9_Part_2, Q9_Part_3, Q9_Part_4, Q9_Part_5, Q9_Part_6, Q9_Part_7, Q9_Part_8, Q9_Part_9, Q9_Part_10, Q9_Part_11, Q9_OTHER, Q10_Part_1, Q10_Part_2, Q10_Part_3, Q10_Part_4, Q10_Part_5, Q10_Part_6, Q10_Part_7, Q10_Part_8, Q10_Part_9, Q10_Part_10, Q10_Part_11, Q10_Part_12, Q10_Part_13, Q10_OTHER, Q12_Part_1, Q12_Part_2, Q12_Part_3, Q12_OTHER, Q14_Part_1, Q14_Part_2, Q14_Part_3, Q14_Part_4, Q14_Part_5, Q14_Part_6, Q14_Part_7, Q14_Part_8, Q14_Part_9, Q14_Part_10, Q14_Part_11, Q14_OTHER, Q16_Part_1, Q16_Part_2, Q16_Part_3, Q16_Part_4, Q16_Part_5, Q16_Part_6, Q16_Part_7, Q16_Part_8, Q16_Part_9, Q16_Part_10, Q16_Part_11, Q16_Part_12, Q16_Part_13, Q16_Part_14, Q16_Part_15, Q16_OTHER, Q17_Part_1, Q17_Part_2, Q17_Part_3, Q17_Part_4, Q17_Part_5, Q17_Part_6, Q17_Part_7, Q17_Part_8, Q17_Part_9, Q17_Part_10, Q17_Part_11, Q17_OTHER, Q23_Part_1, Q23_Part_2, Q23_Part_3, Q23_Part_4, Q23_Part_5, Q23_Part_6, Q23_Part_7, Q23_OTHER, Q37_Part_1, Q37_Part_2, Q37_Part_3, Q37_Part_4, Q37_Part_5, Q37_Part_6, Q37_Part_7, Q37_Part_8, ...]\n",
              "Index: []\n",
              "\n",
              "[0 rows x 274 columns]"
            ]
          },
          "metadata": {}
        },
        {
          "output_type": "display_data",
          "data": {
            "text/html": [
              "<div>\n",
              "<style scoped>\n",
              "    .dataframe tbody tr th:only-of-type {\n",
              "        vertical-align: middle;\n",
              "    }\n",
              "\n",
              "    .dataframe tbody tr th {\n",
              "        vertical-align: top;\n",
              "    }\n",
              "\n",
              "    .dataframe thead th {\n",
              "        text-align: right;\n",
              "    }\n",
              "</style>\n",
              "<table border=\"1\" class=\"dataframe\">\n",
              "  <thead>\n",
              "    <tr style=\"text-align: right;\">\n",
              "      <th></th>\n",
              "      <th>Time from Start to Finish (seconds)</th>\n",
              "      <th>Q7_Part_1</th>\n",
              "      <th>Q7_Part_2</th>\n",
              "      <th>Q7_Part_3</th>\n",
              "      <th>Q7_Part_4</th>\n",
              "      <th>Q7_Part_5</th>\n",
              "      <th>Q7_Part_6</th>\n",
              "      <th>Q7_Part_7</th>\n",
              "      <th>Q7_Part_8</th>\n",
              "      <th>Q7_Part_9</th>\n",
              "      <th>Q7_Part_10</th>\n",
              "      <th>Q7_Part_11</th>\n",
              "      <th>Q7_Part_12</th>\n",
              "      <th>Q7_OTHER</th>\n",
              "      <th>Q9_Part_1</th>\n",
              "      <th>Q9_Part_2</th>\n",
              "      <th>Q9_Part_3</th>\n",
              "      <th>Q9_Part_4</th>\n",
              "      <th>Q9_Part_5</th>\n",
              "      <th>Q9_Part_6</th>\n",
              "      <th>Q9_Part_7</th>\n",
              "      <th>Q9_Part_8</th>\n",
              "      <th>Q9_Part_9</th>\n",
              "      <th>Q9_Part_10</th>\n",
              "      <th>Q9_Part_11</th>\n",
              "      <th>Q9_OTHER</th>\n",
              "      <th>Q10_Part_1</th>\n",
              "      <th>Q10_Part_2</th>\n",
              "      <th>Q10_Part_3</th>\n",
              "      <th>Q10_Part_4</th>\n",
              "      <th>Q10_Part_5</th>\n",
              "      <th>Q10_Part_6</th>\n",
              "      <th>Q10_Part_7</th>\n",
              "      <th>Q10_Part_8</th>\n",
              "      <th>Q10_Part_9</th>\n",
              "      <th>Q10_Part_10</th>\n",
              "      <th>Q10_Part_11</th>\n",
              "      <th>Q10_Part_12</th>\n",
              "      <th>Q10_Part_13</th>\n",
              "      <th>Q10_OTHER</th>\n",
              "      <th>...</th>\n",
              "      <th>Q13_Once</th>\n",
              "      <th>Q15_1-2 years</th>\n",
              "      <th>Q15_10-20 years</th>\n",
              "      <th>Q15_2-3 years</th>\n",
              "      <th>Q15_20 or more years</th>\n",
              "      <th>Q15_3-4 years</th>\n",
              "      <th>Q15_4-5 years</th>\n",
              "      <th>Q15_5-10 years</th>\n",
              "      <th>Q15_I do not use machine learning methods</th>\n",
              "      <th>Q15_Under 1 year</th>\n",
              "      <th>Q20_0-49 employees</th>\n",
              "      <th>Q20_10,000 or more employees</th>\n",
              "      <th>Q20_1000-9,999 employees</th>\n",
              "      <th>Q20_250-999 employees</th>\n",
              "      <th>Q20_50-249 employees</th>\n",
              "      <th>Q21_0</th>\n",
              "      <th>Q21_1-2</th>\n",
              "      <th>Q21_10-14</th>\n",
              "      <th>Q21_15-19</th>\n",
              "      <th>Q21_20+</th>\n",
              "      <th>Q21_3-4</th>\n",
              "      <th>Q21_5-9</th>\n",
              "      <th>Q22_I do not know</th>\n",
              "      <th>Q22_No (we do not use ML methods)</th>\n",
              "      <th>Q22_We are exploring ML methods (and may one day put a model into production)</th>\n",
              "      <th>Q22_We have well established ML methods (i.e., models in production for more than 2 years)</th>\n",
              "      <th>Q22_We recently started using ML methods (i.e., models in production for less than 2 years)</th>\n",
              "      <th>Q22_We use ML methods for generating insights (but do not put working models into production)</th>\n",
              "      <th>Q25_$0 ($USD)</th>\n",
              "      <th>Q25_$1-$99</th>\n",
              "      <th>Q25_$10,000-$99,999</th>\n",
              "      <th>Q25_$100,000 or more ($USD)</th>\n",
              "      <th>Q25_$100-$999</th>\n",
              "      <th>Q25_$1000-$9,999</th>\n",
              "      <th>Q38_Advanced statistical software (SPSS, SAS, etc.)</th>\n",
              "      <th>Q38_Basic statistical software (Microsoft Excel, Google Sheets, etc.)</th>\n",
              "      <th>Q38_Business intelligence software (Salesforce, Tableau, Spotfire, etc.)</th>\n",
              "      <th>Q38_Cloud-based data software &amp; APIs (AWS, GCP, Azure, etc.)</th>\n",
              "      <th>Q38_Local development environments (RStudio, JupyterLab, etc.)</th>\n",
              "      <th>Q38_Other</th>\n",
              "    </tr>\n",
              "  </thead>\n",
              "  <tbody>\n",
              "  </tbody>\n",
              "</table>\n",
              "<p>0 rows × 274 columns</p>\n",
              "</div>"
            ],
            "text/plain": [
              "Empty DataFrame\n",
              "Columns: [Time from Start to Finish (seconds), Q7_Part_1, Q7_Part_2, Q7_Part_3, Q7_Part_4, Q7_Part_5, Q7_Part_6, Q7_Part_7, Q7_Part_8, Q7_Part_9, Q7_Part_10, Q7_Part_11, Q7_Part_12, Q7_OTHER, Q9_Part_1, Q9_Part_2, Q9_Part_3, Q9_Part_4, Q9_Part_5, Q9_Part_6, Q9_Part_7, Q9_Part_8, Q9_Part_9, Q9_Part_10, Q9_Part_11, Q9_OTHER, Q10_Part_1, Q10_Part_2, Q10_Part_3, Q10_Part_4, Q10_Part_5, Q10_Part_6, Q10_Part_7, Q10_Part_8, Q10_Part_9, Q10_Part_10, Q10_Part_11, Q10_Part_12, Q10_Part_13, Q10_OTHER, Q12_Part_1, Q12_Part_2, Q12_Part_3, Q12_OTHER, Q14_Part_1, Q14_Part_2, Q14_Part_3, Q14_Part_4, Q14_Part_5, Q14_Part_6, Q14_Part_7, Q14_Part_8, Q14_Part_9, Q14_Part_10, Q14_Part_11, Q14_OTHER, Q16_Part_1, Q16_Part_2, Q16_Part_3, Q16_Part_4, Q16_Part_5, Q16_Part_6, Q16_Part_7, Q16_Part_8, Q16_Part_9, Q16_Part_10, Q16_Part_11, Q16_Part_12, Q16_Part_13, Q16_Part_14, Q16_Part_15, Q16_OTHER, Q17_Part_1, Q17_Part_2, Q17_Part_3, Q17_Part_4, Q17_Part_5, Q17_Part_6, Q17_Part_7, Q17_Part_8, Q17_Part_9, Q17_Part_10, Q17_Part_11, Q17_OTHER, Q23_Part_1, Q23_Part_2, Q23_Part_3, Q23_Part_4, Q23_Part_5, Q23_Part_6, Q23_Part_7, Q23_OTHER, Q37_Part_1, Q37_Part_2, Q37_Part_3, Q37_Part_4, Q37_Part_5, Q37_Part_6, Q37_Part_7, Q37_Part_8, ...]\n",
              "Index: []\n",
              "\n",
              "[0 rows x 274 columns]"
            ]
          },
          "metadata": {}
        }
      ]
    },
    {
      "cell_type": "code",
      "metadata": {
        "ExecuteTime": {
          "end_time": "2021-10-24T17:32:01.120159Z",
          "start_time": "2021-10-24T17:32:01.048394Z"
        },
        "id": "9105cbda",
        "colab": {
          "base_uri": "https://localhost:8080/",
          "height": 259
        },
        "outputId": "77043d3d-8a79-4fb4-fd51-a2146d459ef8"
      },
      "source": [
        "#check Q37 and Q39 again\n",
        "display('Q37',salary.query(\"Q37_Part_1==0 and Q37_Part_2==0 and Q37_Part_3==0 and Q37_Part_4==0 and Q37_Part_5==0 and Q37_Part_6==0 and Q37_Part_7==0 and Q37_Part_8==0 and Q37_Part_9==0 and Q37_Part_10==0 and Q37_Part_11==0 and Q37_OTHER==0\").index)\n",
        "display('Q39',salary.query(\"Q39_Part_1==0 and Q39_Part_2==0 and Q39_Part_3==0 and Q39_Part_4==0 and Q39_Part_5==0 and Q39_Part_6==0 and Q39_Part_7==0 and Q39_Part_8==0 and Q39_Part_9==0 and Q39_Part_10==0 and Q39_Part_11==0 and Q39_OTHER==0\").index)\n",
        "#we can still drop the rows because not many rows are nan\n",
        "index_Q39=salary.query(\"Q39_Part_1==0 and Q39_Part_2==0 and Q39_Part_3==0 and Q39_Part_4==0 and Q39_Part_5==0 and Q39_Part_6==0 and Q39_Part_7==0 and Q39_Part_8==0 and Q39_Part_9==0 and Q39_Part_10==0 and Q39_Part_11==0 and Q39_OTHER==0\").index\n",
        "salary=salary.drop(index=index_Q39)"
      ],
      "id": "9105cbda",
      "execution_count": 17,
      "outputs": [
        {
          "output_type": "display_data",
          "data": {
            "application/vnd.google.colaboratory.intrinsic+json": {
              "type": "string"
            },
            "text/plain": [
              "'Q37'"
            ]
          },
          "metadata": {}
        },
        {
          "output_type": "display_data",
          "data": {
            "text/plain": [
              "Int64Index([   22,    23,    62,   103,   118,   135,   154,   166,   172,\n",
              "              190,\n",
              "            ...\n",
              "            10598, 10608, 10621, 10627, 10638, 10665, 10669, 10682, 10684,\n",
              "            10701],\n",
              "           dtype='int64', length=498)"
            ]
          },
          "metadata": {}
        },
        {
          "output_type": "display_data",
          "data": {
            "application/vnd.google.colaboratory.intrinsic+json": {
              "type": "string"
            },
            "text/plain": [
              "'Q39'"
            ]
          },
          "metadata": {}
        },
        {
          "output_type": "display_data",
          "data": {
            "text/plain": [
              "Int64Index([   22,    23,    37,    50,    62,    75,    81,   103,   118,\n",
              "              135,\n",
              "            ...\n",
              "            10627, 10632, 10638, 10665, 10669, 10682, 10683, 10684, 10701,\n",
              "            10712],\n",
              "           dtype='int64', length=714)"
            ]
          },
          "metadata": {}
        }
      ]
    },
    {
      "cell_type": "code",
      "metadata": {
        "ExecuteTime": {
          "end_time": "2021-10-24T17:32:01.172982Z",
          "start_time": "2021-10-24T17:32:01.123146Z"
        },
        "id": "21684970",
        "colab": {
          "base_uri": "https://localhost:8080/",
          "height": 87
        },
        "outputId": "2343b62e-3054-40d9-f3f2-133d18940e5d"
      },
      "source": [
        "#we can see nan rows of Q37 are included in those of Q39 and Q37 is clean after we drop Q39 index\n",
        "display('Q37',salary.query(\"Q37_Part_1==0 and Q37_Part_2==0 and Q37_Part_3==0 and Q37_Part_4==0 and Q37_Part_5==0 and Q37_Part_6==0 and Q37_Part_7==0 and Q37_Part_8==0 and Q37_Part_9==0 and Q37_Part_10==0 and Q37_Part_11==0 and Q37_OTHER==0\").index)\n",
        "display('Q39',salary.query(\"Q39_Part_1==0 and Q39_Part_2==0 and Q39_Part_3==0 and Q39_Part_4==0 and Q39_Part_5==0 and Q39_Part_6==0 and Q39_Part_7==0 and Q39_Part_8==0 and Q39_Part_9==0 and Q39_Part_10==0 and Q39_Part_11==0 and Q39_OTHER==0\").index)"
      ],
      "id": "21684970",
      "execution_count": 18,
      "outputs": [
        {
          "output_type": "display_data",
          "data": {
            "application/vnd.google.colaboratory.intrinsic+json": {
              "type": "string"
            },
            "text/plain": [
              "'Q37'"
            ]
          },
          "metadata": {}
        },
        {
          "output_type": "display_data",
          "data": {
            "text/plain": [
              "Int64Index([], dtype='int64')"
            ]
          },
          "metadata": {}
        },
        {
          "output_type": "display_data",
          "data": {
            "application/vnd.google.colaboratory.intrinsic+json": {
              "type": "string"
            },
            "text/plain": [
              "'Q39'"
            ]
          },
          "metadata": {}
        },
        {
          "output_type": "display_data",
          "data": {
            "text/plain": [
              "Int64Index([], dtype='int64')"
            ]
          },
          "metadata": {}
        }
      ]
    },
    {
      "cell_type": "code",
      "metadata": {
        "ExecuteTime": {
          "end_time": "2021-10-24T17:32:06.189884Z",
          "start_time": "2021-10-24T17:32:06.167685Z"
        },
        "scrolled": false,
        "id": "e3619a78"
      },
      "source": [
        "# drop the first column(time) and data is already cleaned and encoded\n",
        "salary=salary.drop(columns=['Time from Start to Finish (seconds)'])"
      ],
      "id": "e3619a78",
      "execution_count": 19,
      "outputs": []
    },
    {
      "cell_type": "code",
      "metadata": {
        "ExecuteTime": {
          "end_time": "2021-10-24T19:08:38.266409Z",
          "start_time": "2021-10-24T19:08:38.225814Z"
        },
        "id": "5061b8e4",
        "colab": {
          "base_uri": "https://localhost:8080/",
          "height": 612
        },
        "outputId": "e98e5095-e206-4ce1-8b04-dc411a007aa4"
      },
      "source": [
        "#drop columns which all rows are 0 \n",
        "feat_drop=[]\n",
        "for i in range(len(salary.columns)):\n",
        "    if salary[salary.columns[i]].values.sum()==0:\n",
        "        feat_drop.append(salary.columns[i])\n",
        "salary=salary.drop(columns=feat_drop)\n",
        "display(salary)"
      ],
      "id": "5061b8e4",
      "execution_count": 20,
      "outputs": [
        {
          "output_type": "display_data",
          "data": {
            "text/html": [
              "<div>\n",
              "<style scoped>\n",
              "    .dataframe tbody tr th:only-of-type {\n",
              "        vertical-align: middle;\n",
              "    }\n",
              "\n",
              "    .dataframe tbody tr th {\n",
              "        vertical-align: top;\n",
              "    }\n",
              "\n",
              "    .dataframe thead th {\n",
              "        text-align: right;\n",
              "    }\n",
              "</style>\n",
              "<table border=\"1\" class=\"dataframe\">\n",
              "  <thead>\n",
              "    <tr style=\"text-align: right;\">\n",
              "      <th></th>\n",
              "      <th>Q7_Part_1</th>\n",
              "      <th>Q7_Part_2</th>\n",
              "      <th>Q7_Part_3</th>\n",
              "      <th>Q7_Part_4</th>\n",
              "      <th>Q7_Part_5</th>\n",
              "      <th>Q7_Part_6</th>\n",
              "      <th>Q7_Part_7</th>\n",
              "      <th>Q7_Part_8</th>\n",
              "      <th>Q7_Part_9</th>\n",
              "      <th>Q7_Part_10</th>\n",
              "      <th>Q7_Part_11</th>\n",
              "      <th>Q7_Part_12</th>\n",
              "      <th>Q7_OTHER</th>\n",
              "      <th>Q9_Part_1</th>\n",
              "      <th>Q9_Part_2</th>\n",
              "      <th>Q9_Part_3</th>\n",
              "      <th>Q9_Part_4</th>\n",
              "      <th>Q9_Part_5</th>\n",
              "      <th>Q9_Part_6</th>\n",
              "      <th>Q9_Part_7</th>\n",
              "      <th>Q9_Part_8</th>\n",
              "      <th>Q9_Part_9</th>\n",
              "      <th>Q9_Part_10</th>\n",
              "      <th>Q9_Part_11</th>\n",
              "      <th>Q9_OTHER</th>\n",
              "      <th>Q10_Part_1</th>\n",
              "      <th>Q10_Part_2</th>\n",
              "      <th>Q10_Part_3</th>\n",
              "      <th>Q10_Part_4</th>\n",
              "      <th>Q10_Part_5</th>\n",
              "      <th>Q10_Part_6</th>\n",
              "      <th>Q10_Part_7</th>\n",
              "      <th>Q10_Part_8</th>\n",
              "      <th>Q10_Part_9</th>\n",
              "      <th>Q10_Part_10</th>\n",
              "      <th>Q10_Part_11</th>\n",
              "      <th>Q10_Part_12</th>\n",
              "      <th>Q10_Part_13</th>\n",
              "      <th>Q10_OTHER</th>\n",
              "      <th>Q12_Part_1</th>\n",
              "      <th>...</th>\n",
              "      <th>Q13_Never</th>\n",
              "      <th>Q13_Once</th>\n",
              "      <th>Q15_1-2 years</th>\n",
              "      <th>Q15_10-20 years</th>\n",
              "      <th>Q15_2-3 years</th>\n",
              "      <th>Q15_20 or more years</th>\n",
              "      <th>Q15_3-4 years</th>\n",
              "      <th>Q15_4-5 years</th>\n",
              "      <th>Q15_5-10 years</th>\n",
              "      <th>Q15_Under 1 year</th>\n",
              "      <th>Q20_0-49 employees</th>\n",
              "      <th>Q20_10,000 or more employees</th>\n",
              "      <th>Q20_1000-9,999 employees</th>\n",
              "      <th>Q20_250-999 employees</th>\n",
              "      <th>Q20_50-249 employees</th>\n",
              "      <th>Q21_0</th>\n",
              "      <th>Q21_1-2</th>\n",
              "      <th>Q21_10-14</th>\n",
              "      <th>Q21_15-19</th>\n",
              "      <th>Q21_20+</th>\n",
              "      <th>Q21_3-4</th>\n",
              "      <th>Q21_5-9</th>\n",
              "      <th>Q22_I do not know</th>\n",
              "      <th>Q22_No (we do not use ML methods)</th>\n",
              "      <th>Q22_We are exploring ML methods (and may one day put a model into production)</th>\n",
              "      <th>Q22_We have well established ML methods (i.e., models in production for more than 2 years)</th>\n",
              "      <th>Q22_We recently started using ML methods (i.e., models in production for less than 2 years)</th>\n",
              "      <th>Q22_We use ML methods for generating insights (but do not put working models into production)</th>\n",
              "      <th>Q25_$0 ($USD)</th>\n",
              "      <th>Q25_$1-$99</th>\n",
              "      <th>Q25_$10,000-$99,999</th>\n",
              "      <th>Q25_$100,000 or more ($USD)</th>\n",
              "      <th>Q25_$100-$999</th>\n",
              "      <th>Q25_$1000-$9,999</th>\n",
              "      <th>Q38_Advanced statistical software (SPSS, SAS, etc.)</th>\n",
              "      <th>Q38_Basic statistical software (Microsoft Excel, Google Sheets, etc.)</th>\n",
              "      <th>Q38_Business intelligence software (Salesforce, Tableau, Spotfire, etc.)</th>\n",
              "      <th>Q38_Cloud-based data software &amp; APIs (AWS, GCP, Azure, etc.)</th>\n",
              "      <th>Q38_Local development environments (RStudio, JupyterLab, etc.)</th>\n",
              "      <th>Q38_Other</th>\n",
              "    </tr>\n",
              "  </thead>\n",
              "  <tbody>\n",
              "    <tr>\n",
              "      <th>1</th>\n",
              "      <td>1</td>\n",
              "      <td>1</td>\n",
              "      <td>1</td>\n",
              "      <td>0</td>\n",
              "      <td>0</td>\n",
              "      <td>0</td>\n",
              "      <td>0</td>\n",
              "      <td>0</td>\n",
              "      <td>0</td>\n",
              "      <td>0</td>\n",
              "      <td>0</td>\n",
              "      <td>0</td>\n",
              "      <td>0</td>\n",
              "      <td>0</td>\n",
              "      <td>0</td>\n",
              "      <td>1</td>\n",
              "      <td>0</td>\n",
              "      <td>1</td>\n",
              "      <td>0</td>\n",
              "      <td>0</td>\n",
              "      <td>1</td>\n",
              "      <td>0</td>\n",
              "      <td>0</td>\n",
              "      <td>0</td>\n",
              "      <td>0</td>\n",
              "      <td>0</td>\n",
              "      <td>1</td>\n",
              "      <td>0</td>\n",
              "      <td>0</td>\n",
              "      <td>0</td>\n",
              "      <td>0</td>\n",
              "      <td>0</td>\n",
              "      <td>0</td>\n",
              "      <td>0</td>\n",
              "      <td>0</td>\n",
              "      <td>0</td>\n",
              "      <td>0</td>\n",
              "      <td>0</td>\n",
              "      <td>0</td>\n",
              "      <td>1</td>\n",
              "      <td>...</td>\n",
              "      <td>0</td>\n",
              "      <td>0</td>\n",
              "      <td>1</td>\n",
              "      <td>0</td>\n",
              "      <td>0</td>\n",
              "      <td>0</td>\n",
              "      <td>0</td>\n",
              "      <td>0</td>\n",
              "      <td>0</td>\n",
              "      <td>0</td>\n",
              "      <td>0</td>\n",
              "      <td>1</td>\n",
              "      <td>0</td>\n",
              "      <td>0</td>\n",
              "      <td>0</td>\n",
              "      <td>0</td>\n",
              "      <td>0</td>\n",
              "      <td>0</td>\n",
              "      <td>0</td>\n",
              "      <td>1</td>\n",
              "      <td>0</td>\n",
              "      <td>0</td>\n",
              "      <td>0</td>\n",
              "      <td>0</td>\n",
              "      <td>0</td>\n",
              "      <td>1</td>\n",
              "      <td>0</td>\n",
              "      <td>0</td>\n",
              "      <td>0</td>\n",
              "      <td>0</td>\n",
              "      <td>0</td>\n",
              "      <td>1</td>\n",
              "      <td>0</td>\n",
              "      <td>0</td>\n",
              "      <td>0</td>\n",
              "      <td>0</td>\n",
              "      <td>1</td>\n",
              "      <td>0</td>\n",
              "      <td>0</td>\n",
              "      <td>0</td>\n",
              "    </tr>\n",
              "    <tr>\n",
              "      <th>3</th>\n",
              "      <td>1</td>\n",
              "      <td>0</td>\n",
              "      <td>1</td>\n",
              "      <td>0</td>\n",
              "      <td>0</td>\n",
              "      <td>0</td>\n",
              "      <td>0</td>\n",
              "      <td>0</td>\n",
              "      <td>0</td>\n",
              "      <td>1</td>\n",
              "      <td>0</td>\n",
              "      <td>0</td>\n",
              "      <td>0</td>\n",
              "      <td>0</td>\n",
              "      <td>0</td>\n",
              "      <td>0</td>\n",
              "      <td>0</td>\n",
              "      <td>1</td>\n",
              "      <td>0</td>\n",
              "      <td>0</td>\n",
              "      <td>0</td>\n",
              "      <td>0</td>\n",
              "      <td>0</td>\n",
              "      <td>0</td>\n",
              "      <td>0</td>\n",
              "      <td>0</td>\n",
              "      <td>0</td>\n",
              "      <td>0</td>\n",
              "      <td>0</td>\n",
              "      <td>0</td>\n",
              "      <td>0</td>\n",
              "      <td>0</td>\n",
              "      <td>0</td>\n",
              "      <td>0</td>\n",
              "      <td>0</td>\n",
              "      <td>0</td>\n",
              "      <td>0</td>\n",
              "      <td>1</td>\n",
              "      <td>0</td>\n",
              "      <td>0</td>\n",
              "      <td>...</td>\n",
              "      <td>0</td>\n",
              "      <td>0</td>\n",
              "      <td>0</td>\n",
              "      <td>0</td>\n",
              "      <td>0</td>\n",
              "      <td>0</td>\n",
              "      <td>1</td>\n",
              "      <td>0</td>\n",
              "      <td>0</td>\n",
              "      <td>0</td>\n",
              "      <td>0</td>\n",
              "      <td>0</td>\n",
              "      <td>0</td>\n",
              "      <td>1</td>\n",
              "      <td>0</td>\n",
              "      <td>0</td>\n",
              "      <td>0</td>\n",
              "      <td>0</td>\n",
              "      <td>0</td>\n",
              "      <td>0</td>\n",
              "      <td>0</td>\n",
              "      <td>1</td>\n",
              "      <td>0</td>\n",
              "      <td>0</td>\n",
              "      <td>0</td>\n",
              "      <td>1</td>\n",
              "      <td>0</td>\n",
              "      <td>0</td>\n",
              "      <td>0</td>\n",
              "      <td>0</td>\n",
              "      <td>1</td>\n",
              "      <td>0</td>\n",
              "      <td>0</td>\n",
              "      <td>0</td>\n",
              "      <td>0</td>\n",
              "      <td>0</td>\n",
              "      <td>0</td>\n",
              "      <td>0</td>\n",
              "      <td>1</td>\n",
              "      <td>0</td>\n",
              "    </tr>\n",
              "    <tr>\n",
              "      <th>4</th>\n",
              "      <td>1</td>\n",
              "      <td>0</td>\n",
              "      <td>1</td>\n",
              "      <td>0</td>\n",
              "      <td>0</td>\n",
              "      <td>0</td>\n",
              "      <td>0</td>\n",
              "      <td>0</td>\n",
              "      <td>0</td>\n",
              "      <td>1</td>\n",
              "      <td>0</td>\n",
              "      <td>0</td>\n",
              "      <td>0</td>\n",
              "      <td>1</td>\n",
              "      <td>0</td>\n",
              "      <td>0</td>\n",
              "      <td>0</td>\n",
              "      <td>1</td>\n",
              "      <td>0</td>\n",
              "      <td>0</td>\n",
              "      <td>1</td>\n",
              "      <td>1</td>\n",
              "      <td>0</td>\n",
              "      <td>0</td>\n",
              "      <td>0</td>\n",
              "      <td>1</td>\n",
              "      <td>1</td>\n",
              "      <td>0</td>\n",
              "      <td>0</td>\n",
              "      <td>0</td>\n",
              "      <td>0</td>\n",
              "      <td>0</td>\n",
              "      <td>0</td>\n",
              "      <td>0</td>\n",
              "      <td>0</td>\n",
              "      <td>0</td>\n",
              "      <td>0</td>\n",
              "      <td>0</td>\n",
              "      <td>0</td>\n",
              "      <td>1</td>\n",
              "      <td>...</td>\n",
              "      <td>0</td>\n",
              "      <td>0</td>\n",
              "      <td>0</td>\n",
              "      <td>0</td>\n",
              "      <td>1</td>\n",
              "      <td>0</td>\n",
              "      <td>0</td>\n",
              "      <td>0</td>\n",
              "      <td>0</td>\n",
              "      <td>0</td>\n",
              "      <td>0</td>\n",
              "      <td>0</td>\n",
              "      <td>1</td>\n",
              "      <td>0</td>\n",
              "      <td>0</td>\n",
              "      <td>0</td>\n",
              "      <td>0</td>\n",
              "      <td>0</td>\n",
              "      <td>0</td>\n",
              "      <td>1</td>\n",
              "      <td>0</td>\n",
              "      <td>0</td>\n",
              "      <td>0</td>\n",
              "      <td>0</td>\n",
              "      <td>0</td>\n",
              "      <td>1</td>\n",
              "      <td>0</td>\n",
              "      <td>0</td>\n",
              "      <td>0</td>\n",
              "      <td>0</td>\n",
              "      <td>1</td>\n",
              "      <td>0</td>\n",
              "      <td>0</td>\n",
              "      <td>0</td>\n",
              "      <td>0</td>\n",
              "      <td>0</td>\n",
              "      <td>0</td>\n",
              "      <td>1</td>\n",
              "      <td>0</td>\n",
              "      <td>0</td>\n",
              "    </tr>\n",
              "    <tr>\n",
              "      <th>5</th>\n",
              "      <td>0</td>\n",
              "      <td>1</td>\n",
              "      <td>0</td>\n",
              "      <td>0</td>\n",
              "      <td>0</td>\n",
              "      <td>0</td>\n",
              "      <td>0</td>\n",
              "      <td>0</td>\n",
              "      <td>0</td>\n",
              "      <td>0</td>\n",
              "      <td>0</td>\n",
              "      <td>0</td>\n",
              "      <td>0</td>\n",
              "      <td>0</td>\n",
              "      <td>1</td>\n",
              "      <td>0</td>\n",
              "      <td>0</td>\n",
              "      <td>0</td>\n",
              "      <td>0</td>\n",
              "      <td>0</td>\n",
              "      <td>0</td>\n",
              "      <td>0</td>\n",
              "      <td>0</td>\n",
              "      <td>0</td>\n",
              "      <td>0</td>\n",
              "      <td>0</td>\n",
              "      <td>0</td>\n",
              "      <td>0</td>\n",
              "      <td>0</td>\n",
              "      <td>0</td>\n",
              "      <td>0</td>\n",
              "      <td>0</td>\n",
              "      <td>0</td>\n",
              "      <td>0</td>\n",
              "      <td>0</td>\n",
              "      <td>0</td>\n",
              "      <td>0</td>\n",
              "      <td>1</td>\n",
              "      <td>0</td>\n",
              "      <td>0</td>\n",
              "      <td>...</td>\n",
              "      <td>1</td>\n",
              "      <td>0</td>\n",
              "      <td>0</td>\n",
              "      <td>0</td>\n",
              "      <td>0</td>\n",
              "      <td>0</td>\n",
              "      <td>0</td>\n",
              "      <td>0</td>\n",
              "      <td>0</td>\n",
              "      <td>1</td>\n",
              "      <td>1</td>\n",
              "      <td>0</td>\n",
              "      <td>0</td>\n",
              "      <td>0</td>\n",
              "      <td>0</td>\n",
              "      <td>0</td>\n",
              "      <td>1</td>\n",
              "      <td>0</td>\n",
              "      <td>0</td>\n",
              "      <td>0</td>\n",
              "      <td>0</td>\n",
              "      <td>0</td>\n",
              "      <td>0</td>\n",
              "      <td>0</td>\n",
              "      <td>0</td>\n",
              "      <td>0</td>\n",
              "      <td>0</td>\n",
              "      <td>1</td>\n",
              "      <td>0</td>\n",
              "      <td>1</td>\n",
              "      <td>0</td>\n",
              "      <td>0</td>\n",
              "      <td>0</td>\n",
              "      <td>0</td>\n",
              "      <td>0</td>\n",
              "      <td>0</td>\n",
              "      <td>0</td>\n",
              "      <td>0</td>\n",
              "      <td>1</td>\n",
              "      <td>0</td>\n",
              "    </tr>\n",
              "    <tr>\n",
              "      <th>6</th>\n",
              "      <td>1</td>\n",
              "      <td>0</td>\n",
              "      <td>1</td>\n",
              "      <td>0</td>\n",
              "      <td>0</td>\n",
              "      <td>0</td>\n",
              "      <td>0</td>\n",
              "      <td>0</td>\n",
              "      <td>0</td>\n",
              "      <td>0</td>\n",
              "      <td>1</td>\n",
              "      <td>0</td>\n",
              "      <td>0</td>\n",
              "      <td>1</td>\n",
              "      <td>0</td>\n",
              "      <td>0</td>\n",
              "      <td>0</td>\n",
              "      <td>0</td>\n",
              "      <td>0</td>\n",
              "      <td>0</td>\n",
              "      <td>0</td>\n",
              "      <td>0</td>\n",
              "      <td>0</td>\n",
              "      <td>0</td>\n",
              "      <td>0</td>\n",
              "      <td>1</td>\n",
              "      <td>1</td>\n",
              "      <td>0</td>\n",
              "      <td>0</td>\n",
              "      <td>0</td>\n",
              "      <td>0</td>\n",
              "      <td>0</td>\n",
              "      <td>0</td>\n",
              "      <td>0</td>\n",
              "      <td>0</td>\n",
              "      <td>0</td>\n",
              "      <td>0</td>\n",
              "      <td>0</td>\n",
              "      <td>0</td>\n",
              "      <td>1</td>\n",
              "      <td>...</td>\n",
              "      <td>0</td>\n",
              "      <td>0</td>\n",
              "      <td>0</td>\n",
              "      <td>0</td>\n",
              "      <td>0</td>\n",
              "      <td>0</td>\n",
              "      <td>0</td>\n",
              "      <td>0</td>\n",
              "      <td>0</td>\n",
              "      <td>1</td>\n",
              "      <td>1</td>\n",
              "      <td>0</td>\n",
              "      <td>0</td>\n",
              "      <td>0</td>\n",
              "      <td>0</td>\n",
              "      <td>0</td>\n",
              "      <td>0</td>\n",
              "      <td>0</td>\n",
              "      <td>0</td>\n",
              "      <td>0</td>\n",
              "      <td>1</td>\n",
              "      <td>0</td>\n",
              "      <td>0</td>\n",
              "      <td>0</td>\n",
              "      <td>1</td>\n",
              "      <td>0</td>\n",
              "      <td>0</td>\n",
              "      <td>0</td>\n",
              "      <td>0</td>\n",
              "      <td>0</td>\n",
              "      <td>0</td>\n",
              "      <td>0</td>\n",
              "      <td>0</td>\n",
              "      <td>1</td>\n",
              "      <td>0</td>\n",
              "      <td>1</td>\n",
              "      <td>0</td>\n",
              "      <td>0</td>\n",
              "      <td>0</td>\n",
              "      <td>0</td>\n",
              "    </tr>\n",
              "    <tr>\n",
              "      <th>...</th>\n",
              "      <td>...</td>\n",
              "      <td>...</td>\n",
              "      <td>...</td>\n",
              "      <td>...</td>\n",
              "      <td>...</td>\n",
              "      <td>...</td>\n",
              "      <td>...</td>\n",
              "      <td>...</td>\n",
              "      <td>...</td>\n",
              "      <td>...</td>\n",
              "      <td>...</td>\n",
              "      <td>...</td>\n",
              "      <td>...</td>\n",
              "      <td>...</td>\n",
              "      <td>...</td>\n",
              "      <td>...</td>\n",
              "      <td>...</td>\n",
              "      <td>...</td>\n",
              "      <td>...</td>\n",
              "      <td>...</td>\n",
              "      <td>...</td>\n",
              "      <td>...</td>\n",
              "      <td>...</td>\n",
              "      <td>...</td>\n",
              "      <td>...</td>\n",
              "      <td>...</td>\n",
              "      <td>...</td>\n",
              "      <td>...</td>\n",
              "      <td>...</td>\n",
              "      <td>...</td>\n",
              "      <td>...</td>\n",
              "      <td>...</td>\n",
              "      <td>...</td>\n",
              "      <td>...</td>\n",
              "      <td>...</td>\n",
              "      <td>...</td>\n",
              "      <td>...</td>\n",
              "      <td>...</td>\n",
              "      <td>...</td>\n",
              "      <td>...</td>\n",
              "      <td>...</td>\n",
              "      <td>...</td>\n",
              "      <td>...</td>\n",
              "      <td>...</td>\n",
              "      <td>...</td>\n",
              "      <td>...</td>\n",
              "      <td>...</td>\n",
              "      <td>...</td>\n",
              "      <td>...</td>\n",
              "      <td>...</td>\n",
              "      <td>...</td>\n",
              "      <td>...</td>\n",
              "      <td>...</td>\n",
              "      <td>...</td>\n",
              "      <td>...</td>\n",
              "      <td>...</td>\n",
              "      <td>...</td>\n",
              "      <td>...</td>\n",
              "      <td>...</td>\n",
              "      <td>...</td>\n",
              "      <td>...</td>\n",
              "      <td>...</td>\n",
              "      <td>...</td>\n",
              "      <td>...</td>\n",
              "      <td>...</td>\n",
              "      <td>...</td>\n",
              "      <td>...</td>\n",
              "      <td>...</td>\n",
              "      <td>...</td>\n",
              "      <td>...</td>\n",
              "      <td>...</td>\n",
              "      <td>...</td>\n",
              "      <td>...</td>\n",
              "      <td>...</td>\n",
              "      <td>...</td>\n",
              "      <td>...</td>\n",
              "      <td>...</td>\n",
              "      <td>...</td>\n",
              "      <td>...</td>\n",
              "      <td>...</td>\n",
              "      <td>...</td>\n",
              "    </tr>\n",
              "    <tr>\n",
              "      <th>10723</th>\n",
              "      <td>1</td>\n",
              "      <td>0</td>\n",
              "      <td>0</td>\n",
              "      <td>0</td>\n",
              "      <td>0</td>\n",
              "      <td>0</td>\n",
              "      <td>1</td>\n",
              "      <td>0</td>\n",
              "      <td>0</td>\n",
              "      <td>0</td>\n",
              "      <td>0</td>\n",
              "      <td>0</td>\n",
              "      <td>0</td>\n",
              "      <td>1</td>\n",
              "      <td>0</td>\n",
              "      <td>0</td>\n",
              "      <td>1</td>\n",
              "      <td>1</td>\n",
              "      <td>0</td>\n",
              "      <td>0</td>\n",
              "      <td>1</td>\n",
              "      <td>0</td>\n",
              "      <td>0</td>\n",
              "      <td>0</td>\n",
              "      <td>0</td>\n",
              "      <td>0</td>\n",
              "      <td>1</td>\n",
              "      <td>0</td>\n",
              "      <td>0</td>\n",
              "      <td>0</td>\n",
              "      <td>0</td>\n",
              "      <td>0</td>\n",
              "      <td>0</td>\n",
              "      <td>0</td>\n",
              "      <td>0</td>\n",
              "      <td>0</td>\n",
              "      <td>0</td>\n",
              "      <td>0</td>\n",
              "      <td>0</td>\n",
              "      <td>1</td>\n",
              "      <td>...</td>\n",
              "      <td>1</td>\n",
              "      <td>0</td>\n",
              "      <td>1</td>\n",
              "      <td>0</td>\n",
              "      <td>0</td>\n",
              "      <td>0</td>\n",
              "      <td>0</td>\n",
              "      <td>0</td>\n",
              "      <td>0</td>\n",
              "      <td>0</td>\n",
              "      <td>0</td>\n",
              "      <td>0</td>\n",
              "      <td>0</td>\n",
              "      <td>1</td>\n",
              "      <td>0</td>\n",
              "      <td>0</td>\n",
              "      <td>0</td>\n",
              "      <td>0</td>\n",
              "      <td>0</td>\n",
              "      <td>1</td>\n",
              "      <td>0</td>\n",
              "      <td>0</td>\n",
              "      <td>0</td>\n",
              "      <td>1</td>\n",
              "      <td>0</td>\n",
              "      <td>0</td>\n",
              "      <td>0</td>\n",
              "      <td>0</td>\n",
              "      <td>0</td>\n",
              "      <td>0</td>\n",
              "      <td>0</td>\n",
              "      <td>0</td>\n",
              "      <td>0</td>\n",
              "      <td>1</td>\n",
              "      <td>0</td>\n",
              "      <td>0</td>\n",
              "      <td>0</td>\n",
              "      <td>0</td>\n",
              "      <td>1</td>\n",
              "      <td>0</td>\n",
              "    </tr>\n",
              "    <tr>\n",
              "      <th>10724</th>\n",
              "      <td>1</td>\n",
              "      <td>1</td>\n",
              "      <td>0</td>\n",
              "      <td>1</td>\n",
              "      <td>0</td>\n",
              "      <td>0</td>\n",
              "      <td>0</td>\n",
              "      <td>1</td>\n",
              "      <td>0</td>\n",
              "      <td>0</td>\n",
              "      <td>1</td>\n",
              "      <td>0</td>\n",
              "      <td>0</td>\n",
              "      <td>1</td>\n",
              "      <td>0</td>\n",
              "      <td>0</td>\n",
              "      <td>1</td>\n",
              "      <td>1</td>\n",
              "      <td>0</td>\n",
              "      <td>0</td>\n",
              "      <td>0</td>\n",
              "      <td>0</td>\n",
              "      <td>0</td>\n",
              "      <td>0</td>\n",
              "      <td>0</td>\n",
              "      <td>1</td>\n",
              "      <td>1</td>\n",
              "      <td>0</td>\n",
              "      <td>0</td>\n",
              "      <td>0</td>\n",
              "      <td>0</td>\n",
              "      <td>0</td>\n",
              "      <td>0</td>\n",
              "      <td>0</td>\n",
              "      <td>0</td>\n",
              "      <td>1</td>\n",
              "      <td>0</td>\n",
              "      <td>0</td>\n",
              "      <td>0</td>\n",
              "      <td>0</td>\n",
              "      <td>...</td>\n",
              "      <td>1</td>\n",
              "      <td>0</td>\n",
              "      <td>0</td>\n",
              "      <td>0</td>\n",
              "      <td>0</td>\n",
              "      <td>0</td>\n",
              "      <td>1</td>\n",
              "      <td>0</td>\n",
              "      <td>0</td>\n",
              "      <td>0</td>\n",
              "      <td>0</td>\n",
              "      <td>1</td>\n",
              "      <td>0</td>\n",
              "      <td>0</td>\n",
              "      <td>0</td>\n",
              "      <td>0</td>\n",
              "      <td>0</td>\n",
              "      <td>1</td>\n",
              "      <td>0</td>\n",
              "      <td>0</td>\n",
              "      <td>0</td>\n",
              "      <td>0</td>\n",
              "      <td>1</td>\n",
              "      <td>0</td>\n",
              "      <td>0</td>\n",
              "      <td>0</td>\n",
              "      <td>0</td>\n",
              "      <td>0</td>\n",
              "      <td>1</td>\n",
              "      <td>0</td>\n",
              "      <td>0</td>\n",
              "      <td>0</td>\n",
              "      <td>0</td>\n",
              "      <td>0</td>\n",
              "      <td>0</td>\n",
              "      <td>0</td>\n",
              "      <td>0</td>\n",
              "      <td>0</td>\n",
              "      <td>1</td>\n",
              "      <td>0</td>\n",
              "    </tr>\n",
              "    <tr>\n",
              "      <th>10725</th>\n",
              "      <td>1</td>\n",
              "      <td>0</td>\n",
              "      <td>0</td>\n",
              "      <td>0</td>\n",
              "      <td>1</td>\n",
              "      <td>0</td>\n",
              "      <td>0</td>\n",
              "      <td>0</td>\n",
              "      <td>0</td>\n",
              "      <td>0</td>\n",
              "      <td>0</td>\n",
              "      <td>0</td>\n",
              "      <td>0</td>\n",
              "      <td>0</td>\n",
              "      <td>0</td>\n",
              "      <td>1</td>\n",
              "      <td>0</td>\n",
              "      <td>1</td>\n",
              "      <td>0</td>\n",
              "      <td>0</td>\n",
              "      <td>1</td>\n",
              "      <td>0</td>\n",
              "      <td>0</td>\n",
              "      <td>0</td>\n",
              "      <td>0</td>\n",
              "      <td>0</td>\n",
              "      <td>0</td>\n",
              "      <td>0</td>\n",
              "      <td>0</td>\n",
              "      <td>0</td>\n",
              "      <td>0</td>\n",
              "      <td>0</td>\n",
              "      <td>0</td>\n",
              "      <td>0</td>\n",
              "      <td>0</td>\n",
              "      <td>0</td>\n",
              "      <td>0</td>\n",
              "      <td>1</td>\n",
              "      <td>0</td>\n",
              "      <td>1</td>\n",
              "      <td>...</td>\n",
              "      <td>1</td>\n",
              "      <td>0</td>\n",
              "      <td>1</td>\n",
              "      <td>0</td>\n",
              "      <td>0</td>\n",
              "      <td>0</td>\n",
              "      <td>0</td>\n",
              "      <td>0</td>\n",
              "      <td>0</td>\n",
              "      <td>0</td>\n",
              "      <td>1</td>\n",
              "      <td>0</td>\n",
              "      <td>0</td>\n",
              "      <td>0</td>\n",
              "      <td>0</td>\n",
              "      <td>0</td>\n",
              "      <td>0</td>\n",
              "      <td>0</td>\n",
              "      <td>0</td>\n",
              "      <td>0</td>\n",
              "      <td>0</td>\n",
              "      <td>1</td>\n",
              "      <td>1</td>\n",
              "      <td>0</td>\n",
              "      <td>0</td>\n",
              "      <td>0</td>\n",
              "      <td>0</td>\n",
              "      <td>0</td>\n",
              "      <td>1</td>\n",
              "      <td>0</td>\n",
              "      <td>0</td>\n",
              "      <td>0</td>\n",
              "      <td>0</td>\n",
              "      <td>0</td>\n",
              "      <td>0</td>\n",
              "      <td>1</td>\n",
              "      <td>0</td>\n",
              "      <td>0</td>\n",
              "      <td>0</td>\n",
              "      <td>0</td>\n",
              "    </tr>\n",
              "    <tr>\n",
              "      <th>10728</th>\n",
              "      <td>1</td>\n",
              "      <td>0</td>\n",
              "      <td>1</td>\n",
              "      <td>1</td>\n",
              "      <td>0</td>\n",
              "      <td>1</td>\n",
              "      <td>1</td>\n",
              "      <td>0</td>\n",
              "      <td>0</td>\n",
              "      <td>0</td>\n",
              "      <td>0</td>\n",
              "      <td>0</td>\n",
              "      <td>0</td>\n",
              "      <td>1</td>\n",
              "      <td>1</td>\n",
              "      <td>0</td>\n",
              "      <td>1</td>\n",
              "      <td>0</td>\n",
              "      <td>1</td>\n",
              "      <td>0</td>\n",
              "      <td>1</td>\n",
              "      <td>0</td>\n",
              "      <td>0</td>\n",
              "      <td>0</td>\n",
              "      <td>0</td>\n",
              "      <td>0</td>\n",
              "      <td>1</td>\n",
              "      <td>0</td>\n",
              "      <td>0</td>\n",
              "      <td>0</td>\n",
              "      <td>0</td>\n",
              "      <td>0</td>\n",
              "      <td>0</td>\n",
              "      <td>0</td>\n",
              "      <td>0</td>\n",
              "      <td>0</td>\n",
              "      <td>0</td>\n",
              "      <td>0</td>\n",
              "      <td>0</td>\n",
              "      <td>1</td>\n",
              "      <td>...</td>\n",
              "      <td>0</td>\n",
              "      <td>0</td>\n",
              "      <td>1</td>\n",
              "      <td>0</td>\n",
              "      <td>0</td>\n",
              "      <td>0</td>\n",
              "      <td>0</td>\n",
              "      <td>0</td>\n",
              "      <td>0</td>\n",
              "      <td>0</td>\n",
              "      <td>0</td>\n",
              "      <td>1</td>\n",
              "      <td>0</td>\n",
              "      <td>0</td>\n",
              "      <td>0</td>\n",
              "      <td>0</td>\n",
              "      <td>0</td>\n",
              "      <td>0</td>\n",
              "      <td>0</td>\n",
              "      <td>1</td>\n",
              "      <td>0</td>\n",
              "      <td>0</td>\n",
              "      <td>0</td>\n",
              "      <td>0</td>\n",
              "      <td>0</td>\n",
              "      <td>0</td>\n",
              "      <td>1</td>\n",
              "      <td>0</td>\n",
              "      <td>1</td>\n",
              "      <td>0</td>\n",
              "      <td>0</td>\n",
              "      <td>0</td>\n",
              "      <td>0</td>\n",
              "      <td>0</td>\n",
              "      <td>0</td>\n",
              "      <td>0</td>\n",
              "      <td>0</td>\n",
              "      <td>0</td>\n",
              "      <td>1</td>\n",
              "      <td>0</td>\n",
              "    </tr>\n",
              "    <tr>\n",
              "      <th>10729</th>\n",
              "      <td>1</td>\n",
              "      <td>0</td>\n",
              "      <td>0</td>\n",
              "      <td>0</td>\n",
              "      <td>0</td>\n",
              "      <td>0</td>\n",
              "      <td>0</td>\n",
              "      <td>0</td>\n",
              "      <td>0</td>\n",
              "      <td>0</td>\n",
              "      <td>0</td>\n",
              "      <td>0</td>\n",
              "      <td>0</td>\n",
              "      <td>1</td>\n",
              "      <td>0</td>\n",
              "      <td>0</td>\n",
              "      <td>0</td>\n",
              "      <td>0</td>\n",
              "      <td>0</td>\n",
              "      <td>0</td>\n",
              "      <td>0</td>\n",
              "      <td>0</td>\n",
              "      <td>0</td>\n",
              "      <td>0</td>\n",
              "      <td>0</td>\n",
              "      <td>0</td>\n",
              "      <td>1</td>\n",
              "      <td>0</td>\n",
              "      <td>0</td>\n",
              "      <td>0</td>\n",
              "      <td>0</td>\n",
              "      <td>0</td>\n",
              "      <td>0</td>\n",
              "      <td>0</td>\n",
              "      <td>0</td>\n",
              "      <td>0</td>\n",
              "      <td>0</td>\n",
              "      <td>0</td>\n",
              "      <td>0</td>\n",
              "      <td>1</td>\n",
              "      <td>...</td>\n",
              "      <td>0</td>\n",
              "      <td>1</td>\n",
              "      <td>0</td>\n",
              "      <td>0</td>\n",
              "      <td>0</td>\n",
              "      <td>0</td>\n",
              "      <td>0</td>\n",
              "      <td>0</td>\n",
              "      <td>0</td>\n",
              "      <td>1</td>\n",
              "      <td>1</td>\n",
              "      <td>0</td>\n",
              "      <td>0</td>\n",
              "      <td>0</td>\n",
              "      <td>0</td>\n",
              "      <td>1</td>\n",
              "      <td>0</td>\n",
              "      <td>0</td>\n",
              "      <td>0</td>\n",
              "      <td>0</td>\n",
              "      <td>0</td>\n",
              "      <td>0</td>\n",
              "      <td>1</td>\n",
              "      <td>0</td>\n",
              "      <td>0</td>\n",
              "      <td>0</td>\n",
              "      <td>0</td>\n",
              "      <td>0</td>\n",
              "      <td>1</td>\n",
              "      <td>0</td>\n",
              "      <td>0</td>\n",
              "      <td>0</td>\n",
              "      <td>0</td>\n",
              "      <td>0</td>\n",
              "      <td>0</td>\n",
              "      <td>0</td>\n",
              "      <td>0</td>\n",
              "      <td>0</td>\n",
              "      <td>1</td>\n",
              "      <td>0</td>\n",
              "    </tr>\n",
              "  </tbody>\n",
              "</table>\n",
              "<p>8255 rows × 271 columns</p>\n",
              "</div>"
            ],
            "text/plain": [
              "       Q7_Part_1  ...  Q38_Other\n",
              "1              1  ...          0\n",
              "3              1  ...          0\n",
              "4              1  ...          0\n",
              "5              0  ...          0\n",
              "6              1  ...          0\n",
              "...          ...  ...        ...\n",
              "10723          1  ...          0\n",
              "10724          1  ...          0\n",
              "10725          1  ...          0\n",
              "10728          1  ...          0\n",
              "10729          1  ...          0\n",
              "\n",
              "[8255 rows x 271 columns]"
            ]
          },
          "metadata": {}
        }
      ]
    },
    {
      "cell_type": "markdown",
      "metadata": {
        "id": "HwNtf4pvae4I"
      },
      "source": [
        "#Data analysis and feature selection"
      ],
      "id": "HwNtf4pvae4I"
    },
    {
      "cell_type": "code",
      "metadata": {
        "ExecuteTime": {
          "end_time": "2021-10-24T19:09:15.728727Z",
          "start_time": "2021-10-24T19:09:15.710186Z"
        },
        "id": "75d72ab2"
      },
      "source": [
        "#train test split first\n",
        "X,y=salary.drop(columns=['Q24_Encoded','Q24_buckets']),salary['Q24_Encoded']\n",
        "X_train, X_test, y_train, y_test = train_test_split(X, y, test_size=0.3, random_state=0)\n",
        "X_train=X_train.reset_index().drop(columns='index')\n",
        "y_train=y_train.reset_index().drop(columns='index')"
      ],
      "id": "75d72ab2",
      "execution_count": 21,
      "outputs": []
    },
    {
      "cell_type": "code",
      "metadata": {
        "ExecuteTime": {
          "end_time": "2021-10-24T19:10:09.895334Z",
          "start_time": "2021-10-24T19:10:08.440507Z"
        },
        "id": "ee038ce7"
      },
      "source": [
        "#let's see relationship between some important features and salary buckets\n",
        "master=df[df['Q4']=='Master’s degree'].groupby(['Q24_buckets']).count()['Q4']\n",
        "bachelor=df[df['Q4']=='Bachelor’s degree'].groupby(['Q24_buckets']).count()['Q4']\n",
        "doctor=df[df['Q4']=='Doctoral degree'].groupby(['Q24_buckets']).count()['Q4']\n",
        "index=bachelor.index.values"
      ],
      "id": "ee038ce7",
      "execution_count": 22,
      "outputs": []
    },
    {
      "cell_type": "code",
      "metadata": {
        "colab": {
          "base_uri": "https://localhost:8080/",
          "height": 511
        },
        "id": "h-u8kkJqjpss",
        "outputId": "dc2413ca-d8cc-4bcd-8ea9-7fbe31d0033c"
      },
      "source": [
        "#relationship between degree and salary\n",
        "fig = plt.figure(figsize=(20,6))\n",
        "plt.xlabel('buckets')\n",
        "plt.ylabel('number')\n",
        "ax = fig.add_axes([0,0,1,1])\n",
        "X=np.arange(15)\n",
        "ax.bar(X-0.25, bachelor.values, color = 'b', width = 0.25, label='bachelor')\n",
        "ax.bar(X, master.values, color = 'g', width = 0.25, label='master')\n",
        "ax.bar(X+0.25, doctor.values, color = 'r', width = 0.25, label='doctor')\n",
        "plt.xticks(range(15),index)\n",
        "plt.xlabel('buckets')\n",
        "plt.ylabel('number')\n",
        "plt.legend()"
      ],
      "id": "h-u8kkJqjpss",
      "execution_count": 23,
      "outputs": [
        {
          "output_type": "execute_result",
          "data": {
            "text/plain": [
              "<matplotlib.legend.Legend at 0x7f7bd3862ad0>"
            ]
          },
          "metadata": {},
          "execution_count": 23
        },
        {
          "output_type": "display_data",
          "data": {
            "image/png": "[encoded data removed]",
            "text/plain": [
              "<Figure size 1440x432 with 2 Axes>"
            ]
          },
          "metadata": {
            "needs_background": "light"
          }
        }
      ]
    },
    {
      "cell_type": "code",
      "metadata": {
        "ExecuteTime": {
          "end_time": "2021-10-24T19:09:20.163785Z",
          "start_time": "2021-10-24T19:09:17.895970Z"
        },
        "id": "2f8178af",
        "colab": {
          "base_uri": "https://localhost:8080/"
        },
        "outputId": "86fb2f7f-8a8e-417f-f188-438493c6cd95"
      },
      "source": [
        "#using correlation matrix we can find the most correlated feature is India and US which are in the country question\n",
        "#Q3_India  -0.275509  Q3_United States of America  0.519469\n",
        "salary.corr()['Q24_Encoded'].sort_values().head(10),salary.corr()['Q24_Encoded'].sort_values().tail(10)"
      ],
      "id": "2f8178af",
      "execution_count": 24,
      "outputs": [
        {
          "output_type": "execute_result",
          "data": {
            "text/plain": [
              "(Q3_India             -0.275509\n",
              " Q1_22-24             -0.234287\n",
              " Q15_Under 1 year     -0.229720\n",
              " Q20_0-49 employees   -0.204996\n",
              " Q6_1-2 years         -0.200643\n",
              " Q21_0                -0.181683\n",
              " Q25_$0 ($USD)        -0.174470\n",
              " Q1_25-29             -0.162708\n",
              " Q6_< 1 years         -0.161473\n",
              " Q25_$1-$99           -0.156413\n",
              " Name: Q24_Encoded, dtype: float64,\n",
              " Q6_10-20 years                                                                                0.185048\n",
              " Q25_$10,000-$99,999                                                                           0.213205\n",
              " Q21_20+                                                                                       0.214959\n",
              " Q15_5-10 years                                                                                0.230563\n",
              " Q23_Part_3                                                                                    0.232051\n",
              " Q22_We have well established ML methods (i.e., models in production for more than 2 years)    0.245738\n",
              " Q6_20+ years                                                                                  0.252734\n",
              " Q25_$100,000 or more ($USD)                                                                   0.291061\n",
              " Q3_United States of America                                                                   0.519469\n",
              " Q24_Encoded                                                                                   1.000000\n",
              " Name: Q24_Encoded, dtype: float64)"
            ]
          },
          "metadata": {},
          "execution_count": 24
        }
      ]
    },
    {
      "cell_type": "code",
      "metadata": {
        "id": "Zawsi2qX3-9g",
        "colab": {
          "base_uri": "https://localhost:8080/"
        },
        "outputId": "7e487f58-5921-417e-8dd8-649ba0358f84"
      },
      "source": [
        "#use mutual information to select feature\n",
        "from sklearn.feature_selection import mutual_info_regression\n",
        "mi=mutual_info_regression(X_train,y_train)"
      ],
      "id": "Zawsi2qX3-9g",
      "execution_count": 25,
      "outputs": [
        {
          "output_type": "stream",
          "name": "stderr",
          "text": [
            "/usr/local/lib/python3.7/dist-packages/sklearn/utils/validation.py:760: DataConversionWarning: A column-vector y was passed when a 1d array was expected. Please change the shape of y to (n_samples, ), for example using ravel().\n",
            "  y = column_or_1d(y, warn=True)\n"
          ]
        }
      ]
    },
    {
      "cell_type": "code",
      "metadata": {
        "id": "trcOxwWV5atW",
        "colab": {
          "base_uri": "https://localhost:8080/"
        },
        "outputId": "172f5cdd-31dd-4bc4-9a00-5b7b7e137791"
      },
      "source": [
        "#first 30 important features\n",
        "feature_index=np.argsort(mi)\n",
        "best_features=feature_index[-31:-1]\n",
        "print(X_train.columns[best_features])\n",
        "X_mi=X_train[X_train.columns[best_features]]\n",
        "X_mi=X_mi.values\n",
        "y_train=y_train.values\n",
        "y_train=np.reshape(y_train,y_train.shape[0])"
      ],
      "id": "trcOxwWV5atW",
      "execution_count": 26,
      "outputs": [
        {
          "output_type": "stream",
          "name": "stdout",
          "text": [
            "Index(['Q16_Part_12', 'Q8_Python', 'Q8_MATLAB', 'Q3_Bangladesh', 'Q7_Part_1',\n",
            "       'Q23_Part_3', 'Q20_250-999 employees', 'Q4_Bachelor’s degree', 'Q21_0',\n",
            "       'Q25_$0 ($USD)', 'Q2_Woman', 'Q16_Part_5',\n",
            "       'Q22_No (we do not use ML methods)', 'Q23_Part_1', 'Q1_25-29',\n",
            "       'Q10_Part_13', 'Q20_0-49 employees', 'Q25_$10,000-$99,999',\n",
            "       'Q3_United Kingdom of Great Britain and Northern Ireland', 'Q37_OTHER',\n",
            "       'Q6_1-2 years', 'Q6_< 1 years',\n",
            "       'Q22_We have well established ML methods (i.e., models in production for more than 2 years)',\n",
            "       'Q3_Canada', 'Q15_Under 1 year', 'Q21_20+', 'Q15_5-10 years',\n",
            "       'Q1_22-24', 'Q25_$100,000 or more ($USD)', 'Q3_India'],\n",
            "      dtype='object')\n"
          ]
        }
      ]
    },
    {
      "cell_type": "markdown",
      "metadata": {
        "id": "yF2U6tcsopjj"
      },
      "source": [
        "#Model implementation and tuning"
      ],
      "id": "yF2U6tcsopjj"
    },
    {
      "cell_type": "code",
      "metadata": {
        "id": "OVwjFARroZfM"
      },
      "source": [
        "#set up cross validation and implement ordinal LR using skilearn two-class LR in loop\n",
        "from sklearn.metrics import accuracy_score\n",
        "def OrdinalLogitR_10fold(model,X,y):\n",
        "    \n",
        "  kf = KFold(n_splits=10) #n_splits previously n_folds\n",
        "  \n",
        "  fold = 0\n",
        "  \n",
        "  accuracy_list=[]\n",
        "\n",
        "  for train_index, test_index in kf.split(X): #10 fold validation\n",
        "\n",
        "    fold += 1\n",
        "    X_train, X_test = X[train_index], X[test_index]\n",
        "    y_train, y_test = y[train_index], y[test_index]\n",
        "    predictions=[]\n",
        "\n",
        "    for i in range(0,14): #move i as pivot from 0 to 14, consider left side as 0 and right side as 1\n",
        "\n",
        "      y_binary_train,y_binary_test=y_train.copy(),y_test.copy()\n",
        "\n",
        "      np.place(y_binary_train,y_binary_train<=i,0)\n",
        "      np.place(y_binary_train,y_binary_train>i,1)\n",
        "\n",
        "      np.place(y_binary_test,y_binary_test<=i,0)\n",
        "      np.place(y_binary_test,y_binary_test>i,1)\n",
        "\n",
        "      model.fit(X_train, y_binary_train)\n",
        "      predictions.append(model.predict_proba(X_test)) \n",
        "    \n",
        "    output=np.zeros((y_test.shape[0],15))\n",
        "    for i in range(0,15): #compute proba of each class \n",
        "      if i==0:\n",
        "        output[:,i]=predictions[i][:,0]\n",
        "      else:\n",
        "        if i==14:\n",
        "          output[:,i]=predictions[i-1][:,1]\n",
        "        else:\n",
        "          output[:,i]=predictions[i][:,0]-predictions[i-1][:,0]\n",
        "  \n",
        "    #print('Fold {0} proba: \\n {1}'.format(fold,output)) #can be used to show proba of every sample of each class\n",
        "    pre=np.argmax(output,axis=1)\n",
        "    accuracy=accuracy_score(y_test,pre)\n",
        "\n",
        "    print(\"Fold {0} accuracy: {1}\".format(fold, accuracy))\n",
        "    accuracy_list.append(accuracy)\n",
        "\n",
        "  mean_accuracy = np.mean(accuracy_list) \n",
        "  variance=np.var(accuracy_list)\n",
        "  print(\"mean accuracy:\",mean_accuracy,\"variance:\",variance)   \n"
      ],
      "id": "OVwjFARroZfM",
      "execution_count": 27,
      "outputs": []
    },
    {
      "cell_type": "code",
      "metadata": {
        "colab": {
          "base_uri": "https://localhost:8080/"
        },
        "id": "xMx_gcbf014L",
        "outputId": "a1855721-c2fb-47dd-dde1-75984a5f30e6"
      },
      "source": [
        "#use data from mi selection in ordinal logistic regression\n",
        "lor_mi=LogisticRegression(random_state=0,max_iter=1000,solver='saga')\n",
        "OrdinalLogitR_10fold(lor_mi,X_mi,y_train)"
      ],
      "id": "xMx_gcbf014L",
      "execution_count": 28,
      "outputs": [
        {
          "output_type": "stream",
          "name": "stdout",
          "text": [
            "Fold 1 accuracy: 0.39792387543252594\n",
            "Fold 2 accuracy: 0.4134948096885813\n",
            "Fold 3 accuracy: 0.39792387543252594\n",
            "Fold 4 accuracy: 0.356401384083045\n",
            "Fold 5 accuracy: 0.3719723183391003\n",
            "Fold 6 accuracy: 0.3546712802768166\n",
            "Fold 7 accuracy: 0.3737024221453287\n",
            "Fold 8 accuracy: 0.3806228373702422\n",
            "Fold 9 accuracy: 0.41074523396880414\n",
            "Fold 10 accuracy: 0.41421143847487\n",
            "mean accuracy: 0.387166947521184 variance: 0.00046694032658036637\n"
          ]
        }
      ]
    },
    {
      "cell_type": "code",
      "metadata": {
        "colab": {
          "base_uri": "https://localhost:8080/"
        },
        "id": "JGmqtjvjnTLG",
        "outputId": "fd59070b-de11-4853-8b8c-6f69f78b0365"
      },
      "source": [
        "#change our solver here to see difference\n",
        "lor_mi=LogisticRegression(random_state=0,max_iter=1000,solver='newton-cg')\n",
        "OrdinalLogitR_10fold(lor_mi,X_mi,y_train)"
      ],
      "id": "JGmqtjvjnTLG",
      "execution_count": 29,
      "outputs": [
        {
          "output_type": "stream",
          "name": "stdout",
          "text": [
            "Fold 1 accuracy: 0.39792387543252594\n",
            "Fold 2 accuracy: 0.4134948096885813\n",
            "Fold 3 accuracy: 0.39792387543252594\n",
            "Fold 4 accuracy: 0.356401384083045\n",
            "Fold 5 accuracy: 0.3719723183391003\n",
            "Fold 6 accuracy: 0.3546712802768166\n",
            "Fold 7 accuracy: 0.3737024221453287\n",
            "Fold 8 accuracy: 0.3806228373702422\n",
            "Fold 9 accuracy: 0.41074523396880414\n",
            "Fold 10 accuracy: 0.41421143847487\n",
            "mean accuracy: 0.387166947521184 variance: 0.00046694032658036637\n"
          ]
        }
      ]
    },
    {
      "cell_type": "code",
      "metadata": {
        "colab": {
          "base_uri": "https://localhost:8080/"
        },
        "id": "z-60ks5bn5vM",
        "outputId": "d594c55f-8737-441a-f73f-63b32c22f0af"
      },
      "source": [
        "#change our penalty here\n",
        "#actually there are not many differences\n",
        "lor_mi=LogisticRegression(random_state=0,penalty='l1',max_iter=1000,solver='saga')\n",
        "OrdinalLogitR_10fold(lor_mi,X_mi,y_train)"
      ],
      "id": "z-60ks5bn5vM",
      "execution_count": 30,
      "outputs": [
        {
          "output_type": "stream",
          "name": "stdout",
          "text": [
            "Fold 1 accuracy: 0.39273356401384085\n",
            "Fold 2 accuracy: 0.41695501730103807\n",
            "Fold 3 accuracy: 0.39792387543252594\n",
            "Fold 4 accuracy: 0.35986159169550175\n",
            "Fold 5 accuracy: 0.3719723183391003\n",
            "Fold 6 accuracy: 0.356401384083045\n",
            "Fold 7 accuracy: 0.3685121107266436\n",
            "Fold 8 accuracy: 0.38408304498269896\n",
            "Fold 9 accuracy: 0.4124783362218371\n",
            "Fold 10 accuracy: 0.41594454072790293\n",
            "mean accuracy: 0.3876865783524135 variance: 0.00047806364223070013\n"
          ]
        }
      ]
    },
    {
      "cell_type": "code",
      "metadata": {
        "id": "ik7eegyvzMSZ",
        "colab": {
          "base_uri": "https://localhost:8080/"
        },
        "outputId": "ffe9ff2f-df59-4c7e-d0a0-03bd22ea93c8"
      },
      "source": [
        "#chi2 feature selection\n",
        "from sklearn.feature_selection import SelectKBest\n",
        "from sklearn.feature_selection import chi2\n",
        "X_chi2=SelectKBest(chi2,k=30).fit_transform(X_mi,y_train)\n",
        "lor_chi2 = LogisticRegression(random_state=0,max_iter=1000)\n",
        "OrdinalLogitR_10fold(lor_chi2,X_chi2,y_train)"
      ],
      "id": "ik7eegyvzMSZ",
      "execution_count": 31,
      "outputs": [
        {
          "output_type": "stream",
          "name": "stdout",
          "text": [
            "Fold 1 accuracy: 0.39792387543252594\n",
            "Fold 2 accuracy: 0.4134948096885813\n",
            "Fold 3 accuracy: 0.39792387543252594\n",
            "Fold 4 accuracy: 0.356401384083045\n",
            "Fold 5 accuracy: 0.3719723183391003\n",
            "Fold 6 accuracy: 0.3546712802768166\n",
            "Fold 7 accuracy: 0.3737024221453287\n",
            "Fold 8 accuracy: 0.3806228373702422\n",
            "Fold 9 accuracy: 0.41074523396880414\n",
            "Fold 10 accuracy: 0.41421143847487\n",
            "mean accuracy: 0.387166947521184 variance: 0.00046694032658036637\n"
          ]
        }
      ]
    },
    {
      "cell_type": "code",
      "metadata": {
        "id": "guUMX_zAsaOB",
        "colab": {
          "base_uri": "https://localhost:8080/"
        },
        "outputId": "0ac4e61e-50b7-4fb6-fc38-37902971b3f5"
      },
      "source": [
        "lor_tree = LogisticRegression(random_state=0,max_iter=1000)\n",
        "OrdinalLogitR_10fold(lor_tree,X_tree,y_train)"
      ],
      "id": "guUMX_zAsaOB",
      "execution_count": 33,
      "outputs": [
        {
          "output_type": "stream",
          "name": "stdout",
          "text": [
            "Fold 1 accuracy: 0.4083044982698962\n",
            "Fold 2 accuracy: 0.4031141868512111\n",
            "Fold 3 accuracy: 0.39100346020761245\n",
            "Fold 4 accuracy: 0.38235294117647056\n",
            "Fold 5 accuracy: 0.3737024221453287\n",
            "Fold 6 accuracy: 0.36678200692041524\n",
            "Fold 7 accuracy: 0.39100346020761245\n",
            "Fold 8 accuracy: 0.39100346020761245\n",
            "Fold 9 accuracy: 0.4194107452339688\n",
            "Fold 10 accuracy: 0.41421143847487\n",
            "mean accuracy: 0.3940888619694998 variance: 0.0002657218872252749\n"
          ]
        }
      ]
    },
    {
      "cell_type": "code",
      "metadata": {
        "id": "ehWWCXhGwu0Y",
        "colab": {
          "base_uri": "https://localhost:8080/"
        },
        "outputId": "22b8c089-7d53-4f7f-9112-2cbb9b6a4e3c"
      },
      "source": [
        "#pca feature selection\n",
        "from sklearn.decomposition import PCA\n",
        "pca = PCA(n_components=50)\n",
        "pca.fit(X_train)\n",
        "X_pca = pca.transform(X_train)\n",
        "#PCA_X_Test = pca.transform(Salaries_X_Test)\n",
        "lor_pca = LogisticRegression(random_state=0,max_iter=1000)\n",
        "OrdinalLogitR_10fold(lor_pca,X_pca,y_train)"
      ],
      "id": "ehWWCXhGwu0Y",
      "execution_count": 34,
      "outputs": [
        {
          "output_type": "stream",
          "name": "stdout",
          "text": [
            "Fold 1 accuracy: 0.39792387543252594\n",
            "Fold 2 accuracy: 0.41522491349480967\n",
            "Fold 3 accuracy: 0.39965397923875434\n",
            "Fold 4 accuracy: 0.3754325259515571\n",
            "Fold 5 accuracy: 0.3806228373702422\n",
            "Fold 6 accuracy: 0.3754325259515571\n",
            "Fold 7 accuracy: 0.3944636678200692\n",
            "Fold 8 accuracy: 0.36505190311418684\n",
            "Fold 9 accuracy: 0.4038128249566724\n",
            "Fold 10 accuracy: 0.4124783362218371\n",
            "mean accuracy: 0.39200973895522123 variance: 0.0002602648251658294\n"
          ]
        }
      ]
    },
    {
      "cell_type": "markdown",
      "metadata": {
        "id": "J1nOFIs6qDAj"
      },
      "source": [
        "grid search for optimal hyperparameter"
      ],
      "id": "J1nOFIs6qDAj"
    },
    {
      "cell_type": "code",
      "metadata": {
        "id": "Ksr51IEyqAnz"
      },
      "source": [
        "from sklearn.metrics import f1_score, make_scorer\n",
        "\n",
        "logit_gridsearch = LogisticRegression(random_state=0,max_iter=1000)\n",
        "#Parameters to test\n",
        "parameters = {'penalty':['l2'], \n",
        "             'C':[i for i in np.arange(0.1,1,0.1)]\n",
        "              ,'solver':['newton-cg', 'lbfgs', 'liblinear', 'sag','saga']} #\n",
        "\n",
        "# Compare parameters by score of model \n",
        "f1_scorer_logitm = make_scorer(f1_score,average='weighted')\n",
        "\n",
        "# Run the grid search\n",
        "grid_obj_lm = GridSearchCV(logit_gridsearch, parameters, scoring=f1_scorer_logitm)\n",
        "grid_obj_lm = grid_obj_lm.fit(X_mi,y_train)\n",
        "\n",
        "reg_gridsearch = grid_obj_lm.best_estimator_  #Select best parameter combination"
      ],
      "id": "Ksr51IEyqAnz",
      "execution_count": 35,
      "outputs": []
    },
    {
      "cell_type": "code",
      "metadata": {
        "id": "55XhHSa0zr2j",
        "colab": {
          "base_uri": "https://localhost:8080/"
        },
        "outputId": "8623d51b-9ca4-4df4-d6a6-4f905120642b"
      },
      "source": [
        "best_C=reg_gridsearch.C\n",
        "penalty_=reg_gridsearch.penalty\n",
        "solver_=reg_gridsearch.solver\n",
        "reg_gridsearch"
      ],
      "id": "55XhHSa0zr2j",
      "execution_count": 36,
      "outputs": [
        {
          "output_type": "execute_result",
          "data": {
            "text/plain": [
              "LogisticRegression(C=0.9, class_weight=None, dual=False, fit_intercept=True,\n",
              "                   intercept_scaling=1, l1_ratio=None, max_iter=1000,\n",
              "                   multi_class='auto', n_jobs=None, penalty='l2',\n",
              "                   random_state=0, solver='newton-cg', tol=0.0001, verbose=0,\n",
              "                   warm_start=False)"
            ]
          },
          "metadata": {},
          "execution_count": 36
        }
      ]
    },
    {
      "cell_type": "code",
      "metadata": {
        "colab": {
          "base_uri": "https://localhost:8080/"
        },
        "id": "-4Ww0XXoZDlw",
        "outputId": "5f308288-dc46-4ed9-8486-07093c573990"
      },
      "source": [
        "#use optimal hyperparameter to train 10-fold \n",
        "lor_mi=LogisticRegression(random_state=0,max_iter=1000,solver=solver_,penalty=penalty_,C=best_C)\n",
        "OrdinalLogitR_10fold(lor_mi,X_mi,y_train)"
      ],
      "id": "-4Ww0XXoZDlw",
      "execution_count": 41,
      "outputs": [
        {
          "output_type": "stream",
          "name": "stdout",
          "text": [
            "Fold 1 accuracy: 0.39792387543252594\n",
            "Fold 2 accuracy: 0.4117647058823529\n",
            "Fold 3 accuracy: 0.39792387543252594\n",
            "Fold 4 accuracy: 0.356401384083045\n",
            "Fold 5 accuracy: 0.3719723183391003\n",
            "Fold 6 accuracy: 0.3546712802768166\n",
            "Fold 7 accuracy: 0.3737024221453287\n",
            "Fold 8 accuracy: 0.38235294117647056\n",
            "Fold 9 accuracy: 0.41074523396880414\n",
            "Fold 10 accuracy: 0.41421143847487\n",
            "mean accuracy: 0.387166947521184 variance: 0.000456164593531193\n"
          ]
        }
      ]
    },
    {
      "cell_type": "markdown",
      "metadata": {
        "id": "5HXaVOSmoz0W"
      },
      "source": [
        "#Test"
      ],
      "id": "5HXaVOSmoz0W"
    },
    {
      "cell_type": "code",
      "metadata": {
        "id": "KxbK_13w2ERU"
      },
      "source": [
        "X_test_f=X_test[X_test.columns[best_features]]\n",
        "X_test_f=X_test_f.values\n",
        "y_test=y_test.values"
      ],
      "id": "KxbK_13w2ERU",
      "execution_count": 37,
      "outputs": []
    },
    {
      "cell_type": "code",
      "metadata": {
        "id": "Ii4ZM6nL734r"
      },
      "source": [
        "#change something in the function to make it a train-test function using ordinal LR\n",
        "def train_test(model,X_train,y_train,X_test,y_test):\n",
        "    \n",
        "  predictions=[]\n",
        "  predictions_train=[]\n",
        "\n",
        "  for i in range(0,14):\n",
        "\n",
        "    y_binary_train,y_binary_test=y_train.copy(),y_test.copy()\n",
        "\n",
        "    np.place(y_binary_train,y_binary_train<=i,0)\n",
        "    np.place(y_binary_train,y_binary_train>i,1)\n",
        "    np.place(y_binary_test,y_binary_test<=i,0)\n",
        "    np.place(y_binary_test,y_binary_test>i,1)\n",
        "\n",
        "    model.fit(X_train, y_binary_train)\n",
        "    predictions.append(model.predict_proba(X_test))\n",
        "    predictions_train.append(model.predict_proba(X_train)) \n",
        "\n",
        "  output=np.zeros((y_test.shape[0],15))\n",
        "  output_train=np.zeros((y_train.shape[0],15))\n",
        "  for i in range(0,15):\n",
        "    if i==0:\n",
        "      output[:,i]=predictions[i][:,0]\n",
        "      output_train[:,i]=predictions_train[i][:,0]\n",
        "    else:\n",
        "      if i==14:\n",
        "        output[:,i]=predictions[i-1][:,1]\n",
        "        output_train[:,i]=predictions_train[i-1][:,1]\n",
        "      else:\n",
        "        output[:,i]=predictions[i][:,0]-predictions[i-1][:,0]\n",
        "        output_train[:,i]=predictions_train[i][:,0]-predictions_train[i-1][:,0]\n",
        "  \n",
        "  print('proba result:\\n',output)\n",
        "  pre=np.argmax(output,axis=1)\n",
        "  pre_train=np.argmax(output_train,axis=1)\n",
        "  accuracy=accuracy_score(y_test,pre)\n",
        "\n",
        "  print(\"accuracy:\",accuracy)\n",
        "\n",
        "  return pre,pre_train\n"
      ],
      "id": "Ii4ZM6nL734r",
      "execution_count": 38,
      "outputs": []
    },
    {
      "cell_type": "code",
      "metadata": {
        "id": "jWCEeIEq2biM",
        "colab": {
          "base_uri": "https://localhost:8080/"
        },
        "outputId": "d028b806-eff3-425d-cdd6-ab3c820fef11"
      },
      "source": [
        "#get the final test result\n",
        "lor_model=LogisticRegression(random_state=0,max_iter=1000,penalty=penalty_,solver=solver_,C=best_C).fit(X_mi,y_train)\n",
        "pre,pre_train=train_test(lor_model,X_mi,y_train,X_test_f,y_test)"
      ],
      "id": "jWCEeIEq2biM",
      "execution_count": 39,
      "outputs": [
        {
          "output_type": "stream",
          "name": "stdout",
          "text": [
            "proba result:\n",
            " [[ 8.88305806e-01  7.11699841e-02  1.64244884e-02 ...  1.91049476e-04\n",
            "  -6.70999816e-04  1.48203420e-03]\n",
            " [ 5.70033860e-01  2.11564588e-01  8.73846853e-02 ...  3.86617026e-03\n",
            "   4.86061949e-04  1.21980220e-03]\n",
            " [ 1.26254666e-01  8.14905534e-02  9.43497120e-02 ...  4.70873534e-02\n",
            "   2.24205470e-02  6.45354571e-03]\n",
            " ...\n",
            " [ 5.49442138e-01  2.76521159e-01  7.51149479e-02 ...  9.11857328e-04\n",
            "   1.67050665e-04  1.41815360e-04]\n",
            " [ 5.59371938e-01  8.49476822e-02  1.05877639e-01 ...  6.06517303e-03\n",
            "   6.88517019e-03  1.68860307e-02]\n",
            " [ 4.85184134e-01  2.49802053e-01  8.67729535e-02 ...  3.18358328e-03\n",
            "   2.42041255e-04  3.37785817e-04]]\n",
            "accuracy: 0.3992733144933387\n"
          ]
        }
      ]
    },
    {
      "cell_type": "code",
      "metadata": {
        "id": "mkef3KTx3_xU",
        "colab": {
          "base_uri": "https://localhost:8080/",
          "height": 683
        },
        "outputId": "2010e691-e8bc-4149-a684-f8259c5c8fbd"
      },
      "source": [
        "#display the distribution of prediction and ture data in train and test set\n",
        "\n",
        "plt.figure(figsize=(7,5))\n",
        "plt.hist([pre,y_test],label=['predict','true'],bins=15)\n",
        "plt.title('test data')\n",
        "plt.xlabel('class')\n",
        "plt.ylabel('number')\n",
        "plt.legend(loc='upper right')\n",
        "\n",
        "plt.figure(figsize=(7,5))\n",
        "plt.hist([pre_train,y_train],label=['predict','true'],bins=15)\n",
        "plt.title('train data')\n",
        "plt.xlabel('class')\n",
        "plt.ylabel('number')\n",
        "plt.legend(loc='upper right')\n",
        "plt.show()"
      ],
      "id": "mkef3KTx3_xU",
      "execution_count": 40,
      "outputs": [
        {
          "output_type": "display_data",
          "data": {
            "image/png": "[encoded data removed]",
            "text/plain": [
              "<Figure size 504x360 with 1 Axes>"
            ]
          },
          "metadata": {
            "needs_background": "light"
          }
        },
        {
          "output_type": "display_data",
          "data": {
            "image/png": "[encoded data removed]",
            "text/plain": [
              "<Figure size 504x360 with 1 Axes>"
            ]
          },
          "metadata": {
            "needs_background": "light"
          }
        }
      ]
    }
  ]
}